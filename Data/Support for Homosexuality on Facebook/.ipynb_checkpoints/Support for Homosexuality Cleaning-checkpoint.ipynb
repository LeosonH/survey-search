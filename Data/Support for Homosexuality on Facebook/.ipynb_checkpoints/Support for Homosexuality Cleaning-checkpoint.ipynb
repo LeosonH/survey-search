{
 "cells": [
  {
   "cell_type": "markdown",
   "metadata": {},
   "source": [
    "## Part 1: Extract variable descriptions"
   ]
  },
  {
   "cell_type": "code",
   "execution_count": null,
   "metadata": {
    "collapsed": true
   },
   "outputs": [],
   "source": [
    "import pandas as pd"
   ]
  },
  {
   "cell_type": "code",
   "execution_count": null,
   "metadata": {},
   "outputs": [],
   "source": [
    "data = pd.read_csv(\"Support_for_homosexuality_facebook_data.csv\", header=None)"
   ]
  },
  {
   "cell_type": "code",
   "execution_count": 17,
   "metadata": {},
   "outputs": [],
   "source": [
    "data0 = data.loc[0]\n",
    "data0 = pd.DataFrame(data0[23:])"
   ]
  },
  {
   "cell_type": "code",
   "execution_count": 18,
   "metadata": {},
   "outputs": [],
   "source": [
    "data1 = data.loc[1]\n",
    "data1 = data1[23:]"
   ]
  },
  {
   "cell_type": "code",
   "execution_count": 20,
   "metadata": {},
   "outputs": [],
   "source": [
    "cleaned_data = data0.join(data1)"
   ]
  },
  {
   "cell_type": "code",
   "execution_count": 24,
   "metadata": {},
   "outputs": [],
   "source": [
    "# cleaned_data"
   ]
  },
  {
   "cell_type": "code",
   "execution_count": 22,
   "metadata": {},
   "outputs": [],
   "source": [
    "cleaned_data.columns = [\"Var_Name\", \"Var_Text\"]"
   ]
  },
  {
   "cell_type": "code",
   "execution_count": 25,
   "metadata": {},
   "outputs": [],
   "source": [
    "cleaned_data.to_csv(path_or_buf=\"Support_for_homosexuality_cleaned.csv\", index=False)"
   ]
  },
  {
   "cell_type": "markdown",
   "metadata": {},
   "source": [
    "## Part 2: Create Survey Detail Description"
   ]
  },
  {
   "cell_type": "code",
   "execution_count": 61,
   "metadata": {
    "collapsed": true
   },
   "outputs": [],
   "source": [
    "def create_d(survey_num, survey_name, num_part, org_conduct, num_questions, data_link, \n",
    "             doc_link, source_link, summary):\n",
    "    d = {\"Survey_Number\": [survey_num],\n",
    "         \"Survey_Name\": [survey_name], \n",
    "         \"Num_Participants\": [num_part],\n",
    "         \"Org_Conduct\": [org_conduct], \n",
    "         \"Num_Questions\": [num_questions],\n",
    "         \"Data_Link\": [data_link],\n",
    "         \"Documentation_Link\": [doc_link],\n",
    "         \"Source_Link\": [source_link],\n",
    "         \"Summary\": [summary]}\n",
    "    return d"
   ]
  },
  {
   "cell_type": "code",
   "execution_count": 62,
   "metadata": {
    "collapsed": true
   },
   "outputs": [],
   "source": [
    "def create_detail_csv(d, name):\n",
    "    detail = pd.DataFrame(data=d, columns = [\"Survey_Number\", \"Survey_Name\", \"Num_Participants\",\n",
    "                            \"Org_Conduct\", \"Num_Questions\", \"Data_Link\", \"Documentation_Link\",\n",
    "                            \"Source_Link\", \"Summary\"])\n",
    "    detail.to_csv(path_or_buf=name + \"_detail.csv\", index=False)"
   ]
  },
  {
   "cell_type": "code",
   "execution_count": 63,
   "metadata": {
    "collapsed": true
   },
   "outputs": [],
   "source": [
    "survey_num = 8\n",
    "survey_name = \"Support for Homosexuality on Facebook in Singapore\"\n",
    "num_part = len(data) - 3\n",
    "org_conduct = \"Students: Abdullah Zaidani Bin Alim, Michelle Tan, Leoson Hoay\"\n",
    "num_questions = len(cleaned_data)\n",
    "data_link = \"http://bit.ly/2HerrQE\"\n",
    "doc_link = \"http://bit.ly/2oZAbCD\"\n",
    "source_link = \"NA\"\n",
    "summary = \"A 2015 survey on attitudes towards homosexuality on Facebook, conducted as part of an \\\n",
    "        undergraduate honors class research project in the National University of Singapore.\""
   ]
  },
  {
   "cell_type": "code",
   "execution_count": 64,
   "metadata": {},
   "outputs": [],
   "source": [
    "d = create_d(survey_num, survey_name, num_part, org_conduct, num_questions, data_link, \n",
    "             doc_link, source_link, summary)"
   ]
  },
  {
   "cell_type": "code",
   "execution_count": 65,
   "metadata": {},
   "outputs": [],
   "source": [
    "create_detail_csv(d, \"SupportforHomosexuality\")"
   ]
  },
  {
   "cell_type": "code",
   "execution_count": null,
   "metadata": {
    "collapsed": true
   },
   "outputs": [],
   "source": []
  },
  {
   "cell_type": "code",
   "execution_count": null,
   "metadata": {
    "collapsed": true
   },
   "outputs": [],
   "source": []
  }
 ],
 "metadata": {
  "kernelspec": {
   "display_name": "Python 3",
   "language": "python",
   "name": "python3"
  },
  "language_info": {
   "codemirror_mode": {
    "name": "ipython",
    "version": 3
   },
   "file_extension": ".py",
   "mimetype": "text/x-python",
   "name": "python",
   "nbconvert_exporter": "python",
   "pygments_lexer": "ipython3",
   "version": "3.6.3"
  }
 },
 "nbformat": 4,
 "nbformat_minor": 2
}
