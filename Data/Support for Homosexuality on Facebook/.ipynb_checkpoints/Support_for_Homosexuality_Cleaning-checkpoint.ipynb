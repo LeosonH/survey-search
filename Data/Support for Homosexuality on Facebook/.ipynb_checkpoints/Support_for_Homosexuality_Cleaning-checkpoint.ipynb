{
 "cells": [
  {
   "cell_type": "code",
   "execution_count": 1,
   "metadata": {
    "collapsed": true
   },
   "outputs": [],
   "source": [
    "import pandas as pd\n",
    "import PyPDF2 as Pypdf\n",
    "import re"
   ]
  },
  {
   "cell_type": "code",
   "execution_count": 2,
   "metadata": {
    "collapsed": true
   },
   "outputs": [],
   "source": [
    "h_pdf = \"Support_for_homosexuality_on_Facebook.pdf\""
   ]
  },
  {
   "cell_type": "code",
   "execution_count": null,
   "metadata": {
    "collapsed": true
   },
   "outputs": [],
   "source": [
    "# # Modified from https://stackoverflow.com/questions/2481945/how-to-read-line-by-line-in-pdf-file-using-pypdf\n",
    "# def getPDFContent(path):\n",
    "#     content = \"\"\n",
    "#     num_pages = 11\n",
    "#     pdf = Pypdf.PdfFileReader(path)\n",
    "#     for i in range(0, num_pages):\n",
    "#         content += pdf.getPage(i).extractText() + \"\\n\"\n",
    "#     content = \" \".join(content.replace(u\"\\xa0\", \" \").strip().split())\n",
    "#     return content"
   ]
  },
  {
   "cell_type": "code",
   "execution_count": 3,
   "metadata": {
    "collapsed": true
   },
   "outputs": [],
   "source": [
    "def getPDFContent(path, first_page, last_page):\n",
    "    content = []\n",
    "    pdf = Pypdf.PdfFileReader(path)\n",
    "    for i in range(first_page, last_page):\n",
    "        content += pdf.getPage(i).extractText().splitlines()\n",
    "    return content"
   ]
  },
  {
   "cell_type": "code",
   "execution_count": 5,
   "metadata": {},
   "outputs": [
    {
     "data": {
      "text/plain": [
       "[' Page ',\n",
       " '1 of 11 Support for homosexuality on Facebook',\n",
       " '   Start of Block: Default Question Block',\n",
       " '  Q1 Gender',\n",
       " ' o Male  (1) ',\n",
       " ' o Female  (2) ',\n",
       " '    Q2 Age',\n",
       " ' ________________________________________________________________    Q3 Race',\n",
       " ' o Chinese  (1) ',\n",
       " ' o Indian  (2) ',\n",
       " ' o Malay  (3) ',\n",
       " ' o Others  (4) ',\n",
       " '    ',\n",
       " ' Page ',\n",
       " '2 of 11 Q14 Religion',\n",
       " ' o Christianity  (1) ',\n",
       " ' o Buddhism  (2) ',\n",
       " ' o Hinduism  (3) ',\n",
       " ' o Islam  (4) ',\n",
       " ' o None  (5) ',\n",
       " ' o Others  (6) ',\n",
       " '    Q4 Highest education attained',\n",
       " \" o O'levels  (1) \",\n",
       " \" o A'levels  (2) \",\n",
       " ' o Diploma  (3) ',\n",
       " ' o Degree  (4) ',\n",
       " ' o Masters  (5) ',\n",
       " ' o PhD  (6) ',\n",
       " ' o Others  (7) ',\n",
       " '    Q5 Job status',\n",
       " ' o Working (full',\n",
       " '-time)  (1) ',\n",
       " ' o Working (part',\n",
       " '-time)  (2) ',\n",
       " ' o Not working  (3) ',\n",
       " '   ',\n",
       " ' Page ',\n",
       " '3 of 11  ',\n",
       " ' Page ',\n",
       " '4 of 11 Q6 This section aims to find out what your personal views about homosexuality are',\n",
       " '  Strongly ',\n",
       " 'disagree ',\n",
       " '(1)',\n",
       " ' Disagree ',\n",
       " '(2)',\n",
       " ' Somewhat ',\n",
       " 'disagree ',\n",
       " '(3)',\n",
       " ' Neutral ',\n",
       " '(4)',\n",
       " ' Somewhat ',\n",
       " 'agree (5)',\n",
       " ' Agree ',\n",
       " '(6)',\n",
       " ' Strongly ',\n",
       " 'agree ',\n",
       " '(7)',\n",
       " ' I feel that ',\n",
       " 'homosexuality ',\n",
       " 'is a natural ',\n",
       " 'occurence (1) ',\n",
       " ' o  o  o  o  o  o  o  My ',\n",
       " 'impression of ',\n",
       " 'my family will ',\n",
       " 'remain ',\n",
       " 'unchanged ',\n",
       " 'whether they ',\n",
       " 'are ',\n",
       " 'homosexual ',\n",
       " 'or not (2) ',\n",
       " ' o  o  o  o  o  o  o  I disagree ',\n",
       " 'with current ',\n",
       " 'governmental ',\n",
       " 'policies ',\n",
       " 'towards LGBT ',\n",
       " 'rights? (e.g. ',\n",
       " 'non-recognition of ',\n",
       " 'same',\n",
       " '-sex ',\n",
       " 'couples, ',\n",
       " 'illegality of ',\n",
       " 'same',\n",
       " '-sex ',\n",
       " 'marriages) ',\n",
       " '*Section 377A ',\n",
       " 'in our Penal ',\n",
       " 'Code also ',\n",
       " 'criminalises ',\n",
       " 'sexual ',\n",
       " 'intercourse ',\n",
       " 'between adult ',\n",
       " 'men, ',\n",
       " 'regardless of ',\n",
       " 'mutual ',\n",
       " 'con',\n",
       " 'sent. The ',\n",
       " 'penalty for ',\n",
       " 'this offence is ',\n",
       " 'a jail',\n",
       " '-term of ',\n",
       " 'up to 2 years. ',\n",
       " '(3) ',\n",
       " ' o  o  o  o  o  o  o  ',\n",
       " ' Page ',\n",
       " '5 of 11 I would attend ',\n",
       " 'events that ',\n",
       " 'support the ',\n",
       " 'acceptance of ',\n",
       " 'homosexuality ',\n",
       " '(e.g. Pink Dot) ',\n",
       " 'if I have the ',\n",
       " 'spare time. ',\n",
       " '(4) ',\n",
       " ' o  o  o  o  o  o  o  I feel that the ',\n",
       " 'existence of ',\n",
       " 'events that ',\n",
       " 'support the ',\n",
       " 'acceptance of ',\n",
       " 'homosexuality ',\n",
       " '(e.g. Pink Dot) ',\n",
       " 'is a step ',\n",
       " 'forward for ',\n",
       " 'society. (5) ',\n",
       " ' o  o  o  o  o  o  o  My ',\n",
       " 'impression of ',\n",
       " 'my friends will ',\n",
       " 'remain ',\n",
       " 'unchanged ',\n",
       " 'whether they ',\n",
       " 'are ',\n",
       " 'homosexual ',\n",
       " 'or not (6) ',\n",
       " ' o  o  o  o  o  o  o      Q7 Any other views on homosexuality or related governmental policies?',\n",
       " '  ________________________________________________________________ ________________________________________________________________ ________________________________________________________________ ________________________________________________________________ ________________________________________________________________    ',\n",
       " ' Page ',\n",
       " '6 of 11 Q8 This section aims to find out how you think Singaporeans feel about homosexuality',\n",
       " '  Strongly ',\n",
       " 'disagree ',\n",
       " '(1)',\n",
       " ' Disagree ',\n",
       " '(2)',\n",
       " ' Somewhat ',\n",
       " 'disagree ',\n",
       " '(3)',\n",
       " ' Neutral ',\n",
       " '(4)',\n",
       " ' Somewhat ',\n",
       " 'agree (5)',\n",
       " ' Agree ',\n",
       " '(6)',\n",
       " ' Strongly ',\n",
       " 'agree ',\n",
       " '(7)',\n",
       " ' I think most ',\n",
       " 'Singaporeans ',\n",
       " 'believe that ',\n",
       " 'homosexuality ',\n",
       " 'is a natural ',\n",
       " 'occurrence ',\n",
       " '(as opposed ',\n",
       " 'to a lifestyle ',\n",
       " 'choice or an ',\n",
       " 'abnormality). ',\n",
       " '(1) ',\n",
       " ' o  o  o  o  o  o  o  I think most ',\n",
       " 'Singaporeans ',\n",
       " 'agree with the ',\n",
       " 'current ',\n",
       " 'government ',\n",
       " 'policies ',\n",
       " 'towards ',\n",
       " 'homosexuality ',\n",
       " 'and homosexual ',\n",
       " 'couples. (2) ',\n",
       " ' o  o  o  o  o  o  o  I think most ',\n",
       " 'Singaporeans ',\n",
       " 'will be ',\n",
       " 'accepting of ',\n",
       " 'their families™ ',\n",
       " 'or friends™ ',\n",
       " 'homosexual ',\n",
       " 'orientation. ',\n",
       " '(3) ',\n",
       " ' o  o  o  o  o  o  o  I think most ',\n",
       " 'Singaporeans ',\n",
       " 'will be willing ',\n",
       " 'to attend events in ',\n",
       " 'support of ',\n",
       " 'homosexuality ',\n",
       " '(e.g. Pink Dot) ',\n",
       " 'if they have ',\n",
       " 'the time to do ',\n",
       " 'so. (4) ',\n",
       " ' o  o  o  o  o  o  o  ',\n",
       " ' Page ',\n",
       " '7 of 11 I think most ',\n",
       " 'Singaporeans ',\n",
       " 'believe that ',\n",
       " 'the existence ',\n",
       " 'of events ',\n",
       " 'such as Pink ',\n",
       " 'Dot are a step ',\n",
       " 'forward for ',\n",
       " 'socie',\n",
       " 'ty. (5) ',\n",
       " \" o  o  o  o  o  o  o      Q9 Any other comments regarding Singaporean's views on homosexuality or related \",\n",
       " 'governmental policies?',\n",
       " '  ________________________________________________________________ ________________________________________________________________ ________________________________________________________________ ________________________________________________________________ ________________________________________________________________    ',\n",
       " ' Page ',\n",
       " '8 of 11 Q10 This section aims to find out about your intention to ',\n",
       " 'post homosexual related content on ',\n",
       " 'Facebook',\n",
       " '  Strongly ',\n",
       " 'Disagree ',\n",
       " '(1)',\n",
       " ' Disagree ',\n",
       " '(2)',\n",
       " ' Somewhat ',\n",
       " 'Disagree ',\n",
       " '(3)',\n",
       " ' Neither ',\n",
       " 'Agree ',\n",
       " 'nor ',\n",
       " 'Disagree ',\n",
       " '(4)',\n",
       " ' Somewhat ',\n",
       " 'Agree (5)',\n",
       " ' Agree ',\n",
       " '(6)',\n",
       " ' Strongly ',\n",
       " 'Agree ',\n",
       " '(7)',\n",
       " ' If I read ',\n",
       " 'anything which ',\n",
       " 'opposes my ',\n",
       " 'view on ',\n",
       " 'homosexuality, ',\n",
       " 'I am likely to ',\n",
       " 'post it on ',\n",
       " 'Facebook (1) ',\n",
       " ' o  o  o  o  o  o  o  If I disagree ',\n",
       " 'with my ',\n",
       " 'friends™ ',\n",
       " 'facebook ',\n",
       " 'posts on ',\n",
       " 'homosexuality, ',\n",
       " 'I am likely to ',\n",
       " 'post my ',\n",
       " 'opinion about ',\n",
       " 'it on ',\n",
       " 'Facebook. (2) ',\n",
       " ' o  o  o  o  o  o  o  If there are ',\n",
       " 'new ',\n",
       " 'government ',\n",
       " 'policies in ',\n",
       " 'future, I am ',\n",
       " 'likely to post ',\n",
       " 'my view on ',\n",
       " 'homosexuality ',\n",
       " 'regardless of ',\n",
       " 'what others ',\n",
       " 'think. (3) ',\n",
       " ' o  o  o  o  o  o  o  I will not ',\n",
       " 'hesitate to ',\n",
       " 'post my views ',\n",
       " 'about homosexuality ',\n",
       " 'on Facebook if ',\n",
       " 'I think people ',\n",
       " 'would ',\n",
       " 'disagree with ',\n",
       " 'me. (4) ',\n",
       " ' o  o  o  o  o  o  o  ',\n",
       " ' Page ',\n",
       " '9 of 11     Q11 Any other comments regarding your Facebook postings on homosexuality?',\n",
       " ' ________________________________________________________________ ________________________________________________________________ ________________________________________________________________ ________________________________________________________________ ________________________________________________________________    ',\n",
       " ' Page ',\n",
       " '10 of 11 Q12 This section aims to find out your behaviour on Facebo',\n",
       " 'ok  Never (1)',\n",
       " ' Rarely (2)',\n",
       " ' Sometimes ',\n",
       " '(3)',\n",
       " ' Often (4)',\n",
       " ' All of the ',\n",
       " 'Time (5)',\n",
       " ' I have posted ',\n",
       " 'on Facebook ',\n",
       " 'about events ',\n",
       " 'which support ',\n",
       " 'homosexuality ',\n",
       " '(E.g. Pink Dot) ',\n",
       " '(1) ',\n",
       " ' o  o  o  o  o  I have posted ',\n",
       " 'my views ',\n",
       " 'regarding ',\n",
       " 'homosexuality ',\n",
       " 'on Facebook ',\n",
       " '(2) ',\n",
       " ' o  o  o  o  o  I have shared ',\n",
       " 'links to news, ',\n",
       " 'commentaries, ',\n",
       " 'or events ',\n",
       " 'regarding ',\n",
       " 'homosexuality ',\n",
       " 'on Facebook ',\n",
       " '(3) ',\n",
       " ' o  o  o  o  o  On average, ',\n",
       " 'how many ',\n",
       " 'times a week ',\n",
       " 'do you share ',\n",
       " 'links on ',\n",
       " 'Facebook ',\n",
       " '(Never 0 ',\n",
       " 'times, rarely ',\n",
       " '1-2 times, ',\n",
       " 'sometimes 3',\n",
       " '-5 times, often 6',\n",
       " '-9 times, all the ',\n",
       " 'time 10 or ',\n",
       " 'more) (4) ',\n",
       " ' o  o  o  o  o      ',\n",
       " ' Page ',\n",
       " '11 of 11 Q13 Peers',\n",
       " '  Strongly ',\n",
       " 'Disagree ',\n",
       " '(1)',\n",
       " ' Disagree ',\n",
       " '(2)',\n",
       " ' Somewhat ',\n",
       " 'Disagree ',\n",
       " '(3)',\n",
       " ' Neither ',\n",
       " 'Agree ',\n",
       " 'nor ',\n",
       " 'Disagree ',\n",
       " '(4)',\n",
       " ' Somewhat ',\n",
       " 'Agree (5)',\n",
       " ' Agree ',\n",
       " '(6)',\n",
       " ' Strongly ',\n",
       " 'Agree (7)',\n",
       " ' I am ',\n",
       " 'concerned ',\n",
       " 'about how ',\n",
       " 'my friends ',\n",
       " 'view me ',\n",
       " '(1) ',\n",
       " ' o  o  o  o  o  o  o  My close ',\n",
       " 'friends ',\n",
       " 'and I tend to share ',\n",
       " 'similar ',\n",
       " 'opinions ',\n",
       " '(2) ',\n",
       " ' o  o  o  o  o  o  o  It is easy ',\n",
       " 'for me to ',\n",
       " 'disagree ',\n",
       " 'openly ',\n",
       " 'with ',\n",
       " 'friends ',\n",
       " 'regarding ',\n",
       " 'certain ',\n",
       " 'issues (3) ',\n",
       " ' o  o  o  o  o  o  o    End of Block: Default Question Block',\n",
       " '   ']"
      ]
     },
     "execution_count": 5,
     "metadata": {},
     "output_type": "execute_result"
    }
   ],
   "source": [
    "h_text = getPDFContent(h_pdf, 0, 11)\n",
    "h_text"
   ]
  },
  {
   "cell_type": "code",
   "execution_count": 10,
   "metadata": {},
   "outputs": [
    {
     "ename": "IndexError",
     "evalue": "list index out of range",
     "output_type": "error",
     "traceback": [
      "\u001b[0;31m---------------------------------------------------------------------------\u001b[0m",
      "\u001b[0;31mIndexError\u001b[0m                                Traceback (most recent call last)",
      "\u001b[0;32m<ipython-input-10-57de2dc6dfa8>\u001b[0m in \u001b[0;36m<module>\u001b[0;34m()\u001b[0m\n\u001b[1;32m      4\u001b[0m     \u001b[0;32mif\u001b[0m \u001b[0mquestion_text\u001b[0m\u001b[0;34m:\u001b[0m\u001b[0;34m\u001b[0m\u001b[0m\n\u001b[1;32m      5\u001b[0m         \u001b[0;32mfor\u001b[0m \u001b[0mj\u001b[0m \u001b[0;32min\u001b[0m \u001b[0mrange\u001b[0m\u001b[0;34m(\u001b[0m\u001b[0;36m1\u001b[0m\u001b[0;34m,\u001b[0m \u001b[0;36m20\u001b[0m\u001b[0;34m)\u001b[0m\u001b[0;34m:\u001b[0m\u001b[0;34m\u001b[0m\u001b[0m\n\u001b[0;32m----> 6\u001b[0;31m             \u001b[0mquestion_text\u001b[0m \u001b[0;34m=\u001b[0m \u001b[0mre\u001b[0m\u001b[0;34m.\u001b[0m\u001b[0mfindall\u001b[0m\u001b[0;34m(\u001b[0m\u001b[0;34m'(Q\\d*)([a-zA-Z\\s\\?\\.\\,\\']*)'\u001b[0m\u001b[0;34m,\u001b[0m \u001b[0mh_text\u001b[0m\u001b[0;34m[\u001b[0m\u001b[0mi\u001b[0m\u001b[0;34m+\u001b[0m\u001b[0mj\u001b[0m\u001b[0;34m]\u001b[0m\u001b[0;34m)\u001b[0m\u001b[0;34m\u001b[0m\u001b[0m\n\u001b[0m\u001b[1;32m      7\u001b[0m             \u001b[0;32mif\u001b[0m \u001b[0;32mnot\u001b[0m \u001b[0mquestion_text\u001b[0m\u001b[0;34m:\u001b[0m\u001b[0;34m\u001b[0m\u001b[0m\n\u001b[1;32m      8\u001b[0m                 \u001b[0;32mif\u001b[0m \u001b[0mh_text\u001b[0m\u001b[0;34m[\u001b[0m\u001b[0mi\u001b[0m\u001b[0;34m+\u001b[0m\u001b[0mj\u001b[0m\u001b[0;34m]\u001b[0m\u001b[0;34m[\u001b[0m\u001b[0mlen\u001b[0m\u001b[0;34m(\u001b[0m\u001b[0mh_text\u001b[0m\u001b[0;34m)\u001b[0m\u001b[0;34m-\u001b[0m\u001b[0;36m4\u001b[0m\u001b[0;34m:\u001b[0m\u001b[0;34m]\u001b[0m \u001b[0;34m==\u001b[0m \u001b[0;34m'\\(\\d\\s\\)'\u001b[0m\u001b[0;34m:\u001b[0m\u001b[0;34m\u001b[0m\u001b[0m\n",
      "\u001b[0;31mIndexError\u001b[0m: list index out of range"
     ]
    }
   ],
   "source": [
    "top_qs = []\n",
    "for i in range(len(h_text)):\n",
    "    question_text = re.findall('(Q\\d*)([a-zA-Z\\s\\?\\.\\,\\']*)', h_text[i])\n",
    "    if question_text:\n",
    "        for j in range(1, 20):\n",
    "            question_text = re.findall('(Q\\d*)([a-zA-Z\\s\\?\\.\\,\\']*)', h_text[i+j])\n",
    "            if not question_text:\n",
    "                if h_text[i+j][len(h_text)-4:] == '\\(\\d\\s\\)':\n",
    "                    subquestion_text = re.findall('(.)(\\(\\d\\))', h_text[i+j])\n",
    "        "
   ]
  },
  {
   "cell_type": "code",
   "execution_count": null,
   "metadata": {},
   "outputs": [],
   "source": []
  },
  {
   "cell_type": "code",
   "execution_count": null,
   "metadata": {
    "collapsed": true
   },
   "outputs": [],
   "source": []
  },
  {
   "cell_type": "code",
   "execution_count": null,
   "metadata": {
    "collapsed": true
   },
   "outputs": [],
   "source": []
  },
  {
   "cell_type": "code",
   "execution_count": null,
   "metadata": {
    "collapsed": true
   },
   "outputs": [],
   "source": []
  },
  {
   "cell_type": "code",
   "execution_count": null,
   "metadata": {
    "collapsed": true
   },
   "outputs": [],
   "source": []
  },
  {
   "cell_type": "code",
   "execution_count": null,
   "metadata": {},
   "outputs": [],
   "source": [
    "top_qs = question_text[6:13]\n",
    "top_qs"
   ]
  },
  {
   "cell_type": "code",
   "execution_count": null,
   "metadata": {
    "collapsed": true
   },
   "outputs": [],
   "source": [
    "cleaned_qs = []\n",
    "for tup in top_qs:\n",
    "    cleaned_qs.append((tup[0], tup[1].replace('Strongly disagree', '')))"
   ]
  },
  {
   "cell_type": "code",
   "execution_count": null,
   "metadata": {},
   "outputs": [],
   "source": [
    "cleaned_qs"
   ]
  },
  {
   "cell_type": "code",
   "execution_count": null,
   "metadata": {
    "collapsed": true
   },
   "outputs": [],
   "source": [
    "cleaned_qs2 = []\n",
    "for tup in top_qs:\n",
    "    cleaned_qs2.append((tup[0], tup[1].replace('Never', '')))"
   ]
  },
  {
   "cell_type": "code",
   "execution_count": null,
   "metadata": {},
   "outputs": [],
   "source": [
    "cleaned_qs2"
   ]
  },
  {
   "cell_type": "code",
   "execution_count": null,
   "metadata": {},
   "outputs": [],
   "source": [
    "cleaned_qs3 = []\n",
    "for tup in top_qs:\n",
    "    cleaned_qs3.append((tup[0], tup[1].replace('Strongly Disagree', '')))"
   ]
  },
  {
   "cell_type": "code",
   "execution_count": null,
   "metadata": {
    "collapsed": true
   },
   "outputs": [],
   "source": [
    "cleaned_qs4 = []\n",
    "for tup in top_qs:\n",
    "    cleaned_qs.append((tup[0], tup[1].replace('Strongly disagree', '')))"
   ]
  },
  {
   "cell_type": "code",
   "execution_count": null,
   "metadata": {},
   "outputs": [],
   "source": [
    "cleaned_qs3"
   ]
  },
  {
   "cell_type": "code",
   "execution_count": null,
   "metadata": {
    "collapsed": true
   },
   "outputs": [],
   "source": [
    "#question_text2 = re.findall('([a-zA-Z\\s\\?\\.\\,\\']*)(\\(\\d\\))', h_text)"
   ]
  },
  {
   "cell_type": "code",
   "execution_count": null,
   "metadata": {
    "collapsed": true
   },
   "outputs": [],
   "source": [
    "#top_qs2 = question_text2[29:]\n",
    "#top_qs3 = top_qs2"
   ]
  },
  {
   "cell_type": "code",
   "execution_count": null,
   "metadata": {},
   "outputs": [],
   "source": [
    "question_text2 = re.findall('(Q\\d*)([a-zA-Z\\s\\?\\.\\,\\']*)([\\(\\d\\)a-zA-Z\\s\\?\\.\\,\\'\\-\\*]*)', h_text)\n",
    "question_text2[1:]"
   ]
  },
  {
   "cell_type": "code",
   "execution_count": null,
   "metadata": {},
   "outputs": [],
   "source": [
    "question_text3 = []\n",
    "for tup in (question_text2[1:]):\n",
    "    cleaned = tup[2].replace('Strongly disagree (1) Disagree (2) Somewhat disagree (3) Neutral (4) \\\n",
    "    Somewhat agree (5) Agree (6) Strongly agree (7)', '')\n",
    "    question_text3.append(cleaned)\n",
    "question_text3"
   ]
  },
  {
   "cell_type": "code",
   "execution_count": null,
   "metadata": {
    "collapsed": true
   },
   "outputs": [],
   "source": []
  },
  {
   "cell_type": "code",
   "execution_count": null,
   "metadata": {
    "collapsed": true
   },
   "outputs": [],
   "source": []
  },
  {
   "cell_type": "code",
   "execution_count": null,
   "metadata": {
    "collapsed": true
   },
   "outputs": [],
   "source": []
  },
  {
   "cell_type": "code",
   "execution_count": null,
   "metadata": {
    "collapsed": true
   },
   "outputs": [],
   "source": []
  },
  {
   "cell_type": "code",
   "execution_count": null,
   "metadata": {
    "collapsed": true
   },
   "outputs": [],
   "source": []
  },
  {
   "cell_type": "code",
   "execution_count": null,
   "metadata": {
    "collapsed": true
   },
   "outputs": [],
   "source": [
    "data = pd.read_csv(\"Support_for_homosexuality_facebook_data.csv\")"
   ]
  },
  {
   "cell_type": "code",
   "execution_count": null,
   "metadata": {},
   "outputs": [],
   "source": [
    "data.head()"
   ]
  },
  {
   "cell_type": "code",
   "execution_count": null,
   "metadata": {},
   "outputs": [],
   "source": [
    "df = pd.DataFrame(data.columns)\n",
    "df"
   ]
  },
  {
   "cell_type": "code",
   "execution_count": null,
   "metadata": {
    "collapsed": true
   },
   "outputs": [],
   "source": []
  }
 ],
 "metadata": {
  "kernelspec": {
   "display_name": "Python 3",
   "language": "python",
   "name": "python3"
  },
  "language_info": {
   "codemirror_mode": {
    "name": "ipython",
    "version": 3
   },
   "file_extension": ".py",
   "mimetype": "text/x-python",
   "name": "python",
   "nbconvert_exporter": "python",
   "pygments_lexer": "ipython3",
   "version": "3.6.3"
  }
 },
 "nbformat": 4,
 "nbformat_minor": 2
}
