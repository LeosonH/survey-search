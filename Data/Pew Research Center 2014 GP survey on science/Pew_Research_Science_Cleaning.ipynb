{
 "cells": [
  {
   "cell_type": "code",
   "execution_count": 1,
   "metadata": {
    "collapsed": true
   },
   "outputs": [],
   "source": [
    "import pandas as pd\n",
    "import numpy as np\n",
    "import re\n",
    "import docx\n",
    "from docx import Document"
   ]
  },
  {
   "cell_type": "markdown",
   "metadata": {},
   "source": [
    "# Part 1: Extract variable descriptions"
   ]
  },
  {
   "cell_type": "code",
   "execution_count": 2,
   "metadata": {
    "collapsed": true
   },
   "outputs": [],
   "source": [
    "df = pd.read_csv(\"Dataset - 2014 Pew Research Center Science Survey (SPSS).csv\")"
   ]
  },
  {
   "cell_type": "code",
   "execution_count": 3,
   "metadata": {},
   "outputs": [
    {
     "data": {
      "text/html": [
       "<div>\n",
       "<style>\n",
       "    .dataframe thead tr:only-child th {\n",
       "        text-align: right;\n",
       "    }\n",
       "\n",
       "    .dataframe thead th {\n",
       "        text-align: left;\n",
       "    }\n",
       "\n",
       "    .dataframe tbody tr th {\n",
       "        vertical-align: top;\n",
       "    }\n",
       "</style>\n",
       "<table border=\"1\" class=\"dataframe\">\n",
       "  <thead>\n",
       "    <tr style=\"text-align: right;\">\n",
       "      <th></th>\n",
       "      <th>caseid</th>\n",
       "      <th>weight</th>\n",
       "      <th>sample</th>\n",
       "      <th>int_date</th>\n",
       "      <th>lang</th>\n",
       "      <th>cregion</th>\n",
       "      <th>state</th>\n",
       "      <th>usr</th>\n",
       "      <th>density</th>\n",
       "      <th>form</th>\n",
       "      <th>...</th>\n",
       "      <th>party</th>\n",
       "      <th>partyln</th>\n",
       "      <th>ideo</th>\n",
       "      <th>hh1</th>\n",
       "      <th>hh3</th>\n",
       "      <th>eminuse</th>\n",
       "      <th>intmob</th>\n",
       "      <th>ql1</th>\n",
       "      <th>ql1a</th>\n",
       "      <th>qc1</th>\n",
       "    </tr>\n",
       "  </thead>\n",
       "  <tbody>\n",
       "    <tr>\n",
       "      <th>0</th>\n",
       "      <td>100003</td>\n",
       "      <td>3.285714</td>\n",
       "      <td>1</td>\n",
       "      <td>81514</td>\n",
       "      <td>1</td>\n",
       "      <td>3</td>\n",
       "      <td>37</td>\n",
       "      <td>U</td>\n",
       "      <td>3</td>\n",
       "      <td>2</td>\n",
       "      <td>...</td>\n",
       "      <td>3</td>\n",
       "      <td>1</td>\n",
       "      <td>2</td>\n",
       "      <td>9</td>\n",
       "      <td>9</td>\n",
       "      <td>1</td>\n",
       "      <td>1</td>\n",
       "      <td>1</td>\n",
       "      <td></td>\n",
       "      <td></td>\n",
       "    </tr>\n",
       "    <tr>\n",
       "      <th>1</th>\n",
       "      <td>100004</td>\n",
       "      <td>3.214286</td>\n",
       "      <td>1</td>\n",
       "      <td>81814</td>\n",
       "      <td>1</td>\n",
       "      <td>3</td>\n",
       "      <td>51</td>\n",
       "      <td>U</td>\n",
       "      <td>5</td>\n",
       "      <td>1</td>\n",
       "      <td>...</td>\n",
       "      <td>2</td>\n",
       "      <td></td>\n",
       "      <td>5</td>\n",
       "      <td>5</td>\n",
       "      <td>2</td>\n",
       "      <td>1</td>\n",
       "      <td>1</td>\n",
       "      <td>1</td>\n",
       "      <td></td>\n",
       "      <td></td>\n",
       "    </tr>\n",
       "    <tr>\n",
       "      <th>2</th>\n",
       "      <td>100014</td>\n",
       "      <td>1.857143</td>\n",
       "      <td>1</td>\n",
       "      <td>81514</td>\n",
       "      <td>1</td>\n",
       "      <td>1</td>\n",
       "      <td>36</td>\n",
       "      <td>U</td>\n",
       "      <td>5</td>\n",
       "      <td>1</td>\n",
       "      <td>...</td>\n",
       "      <td>1</td>\n",
       "      <td></td>\n",
       "      <td>2</td>\n",
       "      <td>1</td>\n",
       "      <td></td>\n",
       "      <td>1</td>\n",
       "      <td>2</td>\n",
       "      <td>1</td>\n",
       "      <td></td>\n",
       "      <td></td>\n",
       "    </tr>\n",
       "    <tr>\n",
       "      <th>3</th>\n",
       "      <td>100020</td>\n",
       "      <td>3.500000</td>\n",
       "      <td>1</td>\n",
       "      <td>81914</td>\n",
       "      <td>1</td>\n",
       "      <td>1</td>\n",
       "      <td>9</td>\n",
       "      <td>S</td>\n",
       "      <td>4</td>\n",
       "      <td>2</td>\n",
       "      <td>...</td>\n",
       "      <td>9</td>\n",
       "      <td>1</td>\n",
       "      <td>2</td>\n",
       "      <td>3</td>\n",
       "      <td>2</td>\n",
       "      <td>1</td>\n",
       "      <td>1</td>\n",
       "      <td>1</td>\n",
       "      <td></td>\n",
       "      <td></td>\n",
       "    </tr>\n",
       "    <tr>\n",
       "      <th>4</th>\n",
       "      <td>100022</td>\n",
       "      <td>3.642857</td>\n",
       "      <td>1</td>\n",
       "      <td>81814</td>\n",
       "      <td>1</td>\n",
       "      <td>2</td>\n",
       "      <td>39</td>\n",
       "      <td>S</td>\n",
       "      <td>5</td>\n",
       "      <td>1</td>\n",
       "      <td>...</td>\n",
       "      <td>1</td>\n",
       "      <td></td>\n",
       "      <td>3</td>\n",
       "      <td>2</td>\n",
       "      <td>2</td>\n",
       "      <td>1</td>\n",
       "      <td>1</td>\n",
       "      <td>1</td>\n",
       "      <td></td>\n",
       "      <td></td>\n",
       "    </tr>\n",
       "  </tbody>\n",
       "</table>\n",
       "<p>5 rows × 100 columns</p>\n",
       "</div>"
      ],
      "text/plain": [
       "   caseid    weight  sample  int_date  lang  cregion  state usr  density  \\\n",
       "0  100003  3.285714       1     81514     1        3     37   U        3   \n",
       "1  100004  3.214286       1     81814     1        3     51   U        5   \n",
       "2  100014  1.857143       1     81514     1        1     36   U        5   \n",
       "3  100020  3.500000       1     81914     1        1      9   S        4   \n",
       "4  100022  3.642857       1     81814     1        2     39   S        5   \n",
       "\n",
       "   form ...   party  partyln  ideo  hh1  hh3  eminuse intmob ql1  ql1a  qc1  \n",
       "0     2 ...       3        1     2    9    9        1      1   1             \n",
       "1     1 ...       2              5    5    2        1      1   1             \n",
       "2     1 ...       1              2    1             1      2   1             \n",
       "3     2 ...       9        1     2    3    2        1      1   1             \n",
       "4     1 ...       1              3    2    2        1      1   1             \n",
       "\n",
       "[5 rows x 100 columns]"
      ]
     },
     "execution_count": 3,
     "metadata": {},
     "output_type": "execute_result"
    }
   ],
   "source": [
    "df.head()"
   ]
  },
  {
   "cell_type": "code",
   "execution_count": 4,
   "metadata": {
    "collapsed": true
   },
   "outputs": [],
   "source": [
    "document = Document('Codebook - 2014 Pew Research Center Science Survey.docx')"
   ]
  },
  {
   "cell_type": "code",
   "execution_count": 5,
   "metadata": {
    "collapsed": true
   },
   "outputs": [],
   "source": [
    "p_list = []\n",
    "\n",
    "for p in document.paragraphs:\n",
    "    p_list.append(p.text)"
   ]
  },
  {
   "cell_type": "code",
   "execution_count": 7,
   "metadata": {},
   "outputs": [],
   "source": [
    "# Clean the data, accounting for subquestions within question.\n",
    "question_tuples = []\n",
    "q_subparts = []\n",
    "for i in range(len(p_list)):\n",
    "    Q_num = re.findall('(Q[0-9]+[A-Z]*[f1]*[F1]*[_]*[code]*[0-9]*)', p_list[i])\n",
    "    if Q_num:\n",
    "        question = p_list[i].strip(Q_num[0])\n",
    "        question = question.strip()\n",
    "        # If there is a subquestion (upon manual inspection, these all have\n",
    "        # [] in them), find the subquestion information.\n",
    "        if \"[\" in question or \"[\" in p_list[i+1]:\n",
    "            a_cat = False\n",
    "            for j in range(1,7):\n",
    "                Q_subpart = re.findall('([a-f]\\.)(.*)', p_list[i+j])\n",
    "                if Q_subpart:\n",
    "                    for part in Q_subpart[0]:\n",
    "                        part = part.strip()\n",
    "                        question = question + str(\" \" + part)\n",
    "                    a_cat = True\n",
    "                if not a_cat:\n",
    "                    Q_subpart2 = re.findall('(^[\\\\t]*\\d)(.*)', p_list[i+j])\n",
    "                    if Q_subpart2:\n",
    "                        for part in Q_subpart2[0]:\n",
    "                            part = part.strip()\n",
    "                            question = question + str(\" \" + part) \n",
    "        atuple = (Q_num[0], question)\n",
    "        question_tuples.append(atuple)\n",
    "    Q_know = re.findall('(KNOSCT[0-9]+)', p_list[i])\n",
    "    if Q_know:\n",
    "        question = p_list[i].strip(Q_know[0])\n",
    "        qustion = question.strip()\n",
    "        atuple = (Q_know[0], question)\n",
    "        question_tuples.append(atuple)"
   ]
  },
  {
   "cell_type": "code",
   "execution_count": 8,
   "metadata": {},
   "outputs": [
    {
     "data": {
      "text/plain": [
       "[('Q1',\n",
       "  'All in all, are you satisfied or dissatisfied with the way things are going in this country today?'),\n",
       " ('Q2',\n",
       "  'We’d like you to compare the United States to other industrialized countries in a few different areas. (First,) what about... [INSERT ITEM; READ AND RANDOMIZE]? [READ FOR FIRST ITEM, THEN AS NECESSARY: Do you think the U.S. is the BEST IN THE WORLD, above average, average or below average in [ITEM] compared to other industrialized countries?] a. Its scientific achievements b. Its military c. Its economy e. Science, technology, engineering and math education for grades K to 12'),\n",
       " ('Q3',\n",
       "  'How much do you ENJOY keeping up with news about science – a lot, some, not much, or not at all?'),\n",
       " ('Q4',\n",
       "  'Overall, has science made life easier or more difficult for most people?'),\n",
       " ('Q5',\n",
       "  'Has science had a mostly positive or mostly negative effect on the quality of [INSERT ITEM; RANDOMIZE] in the U.S.? What about [NEXT ITEM]? [IF NECESSARY: Has science had a mostly positive or mostly negative effect on the quality of [ITEM] in the U.S.?] a. Food b. Health care c. The environment'),\n",
       " ('Q6',\n",
       "  'Which of these statements best describes your views, even if neither is exactly right? 1 One, Public opinion should play an important role to guide policy decisions about scientific issues, OR 2 Two, Public opinion should NOT play an important role to guide policy decisions about scientific issues because these issues are too complex for the average person to understand 3 Neither/Both [VOL. DO NOT READ] 9 Don’t know/Refused (VOL.)'),\n",
       " ('Q7',\n",
       "  'In your opinion, generally do you think... [READ AND RANDOMIZE] 1 Science and religion are often in conflict [OR] 2 Science and religion are mostly compatible 9 [VOL. DO NOT READ] Don’t know/Refused'),\n",
       " ('Q8',\n",
       "  'Now thinking about your own religious beliefs, does science sometimes conflict with your own religious beliefs, or doesn’t it?'),\n",
       " ('Q8', 'IF Q8=1 AND FORM 1, ASK: 1 Answer given 9 Don’t know/Refused'),\n",
       " ('Q9F1',\n",
       "  'Can you tell me some ways in which science conflicts with your own religious beliefs? [OPEN END; ACCEPT UP TO THREE RESPONSES; PROBE ONCE IF “DON’T KNOW,” AND PROBE FOR CLARITY, BUT DO NOT PROBE FOR ADDITIONAL RESPONSES] 1 Answer given 9 Don’t know/Refused'),\n",
       " ('Q9f1_code1',\n",
       "  'FIRST MENTION: Can you tell some ways in which science conflicts with your own religious beliefs?'),\n",
       " ('Q9f1_code2',\n",
       "  'Q9f1_code2 SECOND MENTION: Can you tell some ways in which science conflicts with your own religious beliefs?'),\n",
       " ('Q9f1_code3',\n",
       "  'Q9f1_code3 THIRD MENTION: Can you tell some ways in which science conflicts with your own religious beliefs?'),\n",
       " ('Q12',\n",
       "  'In your opinion, do government investments in [INSERT ITEM; RANDOMIZE] usually pay off in the long run, or are they not worth it? a. Basic scientific research b. Engineering and technology'),\n",
       " ('Q13',\n",
       "  'Which of these comes closer to your view? [READ AND RANDOMIZE RESPONSE OPTIONS] 1 Government investment in research is ESSENTIAL for scientific progress [OR] 2 Private investment will ensure that enough scientific progress is made, even without government investment 9 [VOL. DO NOT READ] Don’t know/Refused'),\n",
       " ('Q20F1',\n",
       "  '[RANDOMIZE QUESTIONS 16-18 IN BLOCKS WITH QUESTIONS Q20F1 to Q23 IN BLOCKS]'),\n",
       " ('Q16',\n",
       "  'Which comes closer to your view? [READ AND RANDOMIZE] 1 Humans and other living things have evolved over time [OR] 2 Humans and other living things have existed in their present form since the beginning of time 9 [VOL. DO NOT READ] Don’t know/Refused'),\n",
       " ('Q16',\n",
       "  'IF EVOLVED (1 in Q16), ASK: 1 Humans and other living things have evolved due to natural processes such as natural selection, OR 2 A supreme being guided the evolution of living things for the purpose of creating humans and other life in the form it exists today 9 [VOL. DO NOT READ] Don’t know/Refused'),\n",
       " ('Q17',\n",
       "  'And do you think that...[READ OPTIONS AND RANDOMIZE]? 1 Humans and other living things have evolved due to natural processes such as natural selection, OR 2 A supreme being guided the evolution of living things for the purpose of creating humans and other life in the form it exists today 9 [VOL. DO NOT READ] Don’t know/Refused'),\n",
       " ('Q18',\n",
       "  'From what you’ve heard or read, do scientists generally agree that humans evolved over time, or do they not generally agree about this?'),\n",
       " ('Q20F1',\n",
       "  'Which of these three statements about the earth’s temperature comes closest to your view? 1 The earth is getting warmer mostly because of natural patterns in the earth’s environment 2 The earth is getting warmer mostly because of human activity such as burning fossil fuels [OR] 3 [READ LAST] There is no solid evidence that the earth is getting warmer 9 [VOL. DO NOT READ] Don’t know/Refused'),\n",
       " ('Q21AF2',\n",
       "  'From what you’ve read and heard, is there solid evidence that the average temperature on earth has been getting warmer over the past few decades, or not?'),\n",
       " ('Q21BF2',\n",
       "  'Do you believe that the earth is getting warmer [READ AND RANDOMIZE]? 1 Mostly because of human activity such as burning fossil fuels [OR] 2 Mostly because of natural patterns in the earth’s environment 9 [VOL. DO NOT READ] Don’t know/Refused'),\n",
       " ('Q21CF2',\n",
       "  'Do you think that we just don’t know enough yet about whether the Earth is getting warmer or do you think it’s just not happening?'),\n",
       " ('Q23',\n",
       "  'From what you’ve heard or read, do scientists generally agree that the earth is getting warmer because of human activity, or do they not generally agree about this?'),\n",
       " ('Q24',\n",
       "  'All in all, do you favor or oppose [INSERT ITEM; RANDOMIZE]? Do you favor or oppose [NEXT ITEM]? a. The use of animals in scientific research b. Building more nuclear power plants to generate electricity c. The increased use of fracking, a drilling method that uses high-pressure water and chemicals to extract oil and natural gas from underground rock formations d. The increased use of genetically engineered plants to create a liquid fuel replacement for gasoline e. Allowing more offshore oil and gas drilling in U.S. waters'),\n",
       " ('Q25',\n",
       "  'Thinking about childhood diseases, such as measles, mumps, rubella and polio... [READ AND RANDOMIZE] 1 Should parents be able to decide NOT to vaccinate their children [OR] 2 Should all children be required to be vaccinated 9 Don’t know/Refused (VOL.)'),\n",
       " ('Q27',\n",
       "  'Thinking about the use of biological engineering to create artificial organs for humans needing a transplant operation, would you say this is making appropriate use of medical advances OR is it taking medical advances too far?'),\n",
       " ('Q28',\n",
       "  \"Which of these statements comes closest to your point of view, even if neither is exactly right? [READ IN ORDER] 1 One, The growing world population will NOT be a major problem because we will find a way to stretch our natural resources OR 2 Two, The growing population WILL be a major problem because there won’t be enough food and resources to go around? 9 Don't know/Refused (VOL.) c. \"),\n",
       " ('Q29',\n",
       "  'Do you think the SPACE STATION has been a good investment for this country, or don’t you think so?'),\n",
       " ('Q30',\n",
       "  'The cost of sending human astronauts to space is considerably greater than the cost of using robotic machines for space exploration. As you think about the future of the U.S. space program, do you think it is essential or not essential to include the use of human astronauts in space?'),\n",
       " ('Q32',\n",
       "  'From what you’ve heard or read, would you say that [READ AND RANDOMIZE 1-2] 1 Scientists generally believe that the universe was created in a single, violent event, often called “the Big Bang” OR 2 Scientists are divided in their views about how the universe was created 3 Both/Neither (VOL.) 9 Don’t know/Refused (VOL.)'),\n",
       " ('Q33',\n",
       "  '[RANDOMIZE ORDER OF Q33 AND Q34] 1 Appropriate use of medical advances 2 Taking medical advances too far'),\n",
       " ('Q33',\n",
       "  \"Would you say that changing a baby's genetic characteristics to make the baby more intelligent is making appropriate use of medical advances OR is it taking medical advances too far?\"),\n",
       " ('Q34',\n",
       "  \"Would you say that changing a baby's genetic characteristics to reduce the risk of serious diseases is making appropriate use of medical advances OR is it taking medical advances too far?\"),\n",
       " ('Q35',\n",
       "  'Do you think it is generally safe or unsafe to eat foods grown with pesticides?'),\n",
       " ('Q37',\n",
       "  'When you are food shopping, how often, if ever, do you LOOK TO SEE if the products are genetically modified? [READ] 1 Always 2 Sometimes 3 Not too often, OR 4 Never 5 Someone else in HH does the food shopping (VOL.)'),\n",
       " ('Q38',\n",
       "  'Do you think it is generally safe or unsafe to eat genetically modified foods?'),\n",
       " ('Q39',\n",
       "  'From what you’ve heard or read, would you say scientists have a clear understanding of the health effects of genetically modified crops OR are scientists NOT clear about this?'),\n",
       " ('Q40',\n",
       "  \"Which of these statements best describes your views, even if neither is exactly right? 1 Churches and other houses of worship should express their views about policy decisions on scientific issues 2 Churches and other houses of worship should keep out of policy decisions on scientific issues 3 Neither/Both [VOL. DO NOT READ] 9 Don't know/Refused (VOL.)\"),\n",
       " ('Q41',\n",
       "  \"Just your impression: Do you think of scientists as...[RANDOMIZE ORDER OF:] a politically liberal group/a politically conservative group [THEN] or as neither in particular? 1 A politically liberal group 2 A politically conservative group 3 Neither in particular 9 Don't know/Refused (VOL.)\"),\n",
       " ('KNOSCT14', '[RANDOMIZE KNOSCT14 THROUGH KNOSCT19]'),\n",
       " ('KNOSCT14',\n",
       "  ' \\tWhich of these is a major concern about the overuse of antibiotics? [READ AND '),\n",
       " ('KNOSCT15',\n",
       "  '\\tIs the following statement true or false? Lasers work by focusing sound waves. [IF NECESSARY: Is this statement true or false?] '),\n",
       " ('KNOSCT16',\n",
       "  '\\tDoes nanotechnology deal with things that are extremely [READ AND RANDOMIZE] '),\n",
       " ('KNOSCT17',\n",
       "  '\\tWhich is an example of a chemical reaction? [READ AND RANDOMIZE] '),\n",
       " ('KNOSCT18',\n",
       "  '\\tWhat is the main function of red blood cells? Is it... [READ AND RANDOMIZE]'),\n",
       " ('KNOSCT19',\n",
       "  '\\tWhat gas do most scientists believe causes temperatures in the atmosphere to rise? Is it [READ AND RANDOMIZE]')]"
      ]
     },
     "execution_count": 8,
     "metadata": {},
     "output_type": "execute_result"
    }
   ],
   "source": [
    "question_tuples"
   ]
  },
  {
   "cell_type": "code",
   "execution_count": 9,
   "metadata": {
    "collapsed": true
   },
   "outputs": [],
   "source": [
    "cleaned_data = pd.DataFrame()"
   ]
  },
  {
   "cell_type": "code",
   "execution_count": 10,
   "metadata": {
    "collapsed": true
   },
   "outputs": [],
   "source": [
    "for tup in question_tuples:\n",
    "    var_name = tup[0]\n",
    "    question = tup[1]\n",
    "    cleaned_data = cleaned_data.append([[var_name, question]], ignore_index=True)"
   ]
  },
  {
   "cell_type": "code",
   "execution_count": 11,
   "metadata": {},
   "outputs": [
    {
     "data": {
      "text/plain": [
       "48"
      ]
     },
     "execution_count": 11,
     "metadata": {},
     "output_type": "execute_result"
    }
   ],
   "source": [
    "cleaned_data.columns = [\"Var_Name\", \"Var_Text\"]\n",
    "len(cleaned_data)"
   ]
  },
  {
   "cell_type": "code",
   "execution_count": 13,
   "metadata": {
    "collapsed": true
   },
   "outputs": [],
   "source": [
    "cleaned_data.to_csv(path_or_buf=\"PewScience_cleaned.csv\", index=False)"
   ]
  },
  {
   "cell_type": "markdown",
   "metadata": {},
   "source": [
    "# Part 2: Create Survey Detail Description"
   ]
  },
  {
   "cell_type": "code",
   "execution_count": 19,
   "metadata": {
    "collapsed": true
   },
   "outputs": [],
   "source": [
    "d = {\"Survey_Number\": [4], \\\n",
    "    \"Survey_Name\": [\"Pew Research Center 2014 GP Survey on Science\"], \"Num_Participants\": [2002], \\\n",
    "    \"Org_Conduct\": [\"Pew Research\"], \"Num_Questions\": [48], \"Data_Link\": \\\n",
    "    [\"http://bit.ly/2FbEzIP\"], \\\n",
    "    \"Documentation_Link\": [\"http://bit.ly/2t7EVM6\"],\\\n",
    "     \"Source_Link\": [\"http://pewrsr.ch/2owjlvS\"],\\\n",
    "     \"Summary\": [\"A 2014 survey that included a number of open-ended questions to gauge what respondents had in mind when thinking about the positive and negative effects of science on society. \"]}"
   ]
  },
  {
   "cell_type": "code",
   "execution_count": 20,
   "metadata": {
    "collapsed": true
   },
   "outputs": [],
   "source": [
    "detail = pd.DataFrame(data=d, columns = [\"Survey_Number\", \"Survey_Name\", \"Num_Participants\", \\\n",
    "                      \"Org_Conduct\", \"Num_Questions\", \"Data_Link\", \"Documentation_Link\", \"Source_Link\", \\\n",
    "                      \"Summary\"])"
   ]
  },
  {
   "cell_type": "code",
   "execution_count": 21,
   "metadata": {},
   "outputs": [
    {
     "data": {
      "text/html": [
       "<div>\n",
       "<style>\n",
       "    .dataframe thead tr:only-child th {\n",
       "        text-align: right;\n",
       "    }\n",
       "\n",
       "    .dataframe thead th {\n",
       "        text-align: left;\n",
       "    }\n",
       "\n",
       "    .dataframe tbody tr th {\n",
       "        vertical-align: top;\n",
       "    }\n",
       "</style>\n",
       "<table border=\"1\" class=\"dataframe\">\n",
       "  <thead>\n",
       "    <tr style=\"text-align: right;\">\n",
       "      <th></th>\n",
       "      <th>Survey_Number</th>\n",
       "      <th>Survey_Name</th>\n",
       "      <th>Num_Participants</th>\n",
       "      <th>Org_Conduct</th>\n",
       "      <th>Num_Questions</th>\n",
       "      <th>Data_Link</th>\n",
       "      <th>Documentation_Link</th>\n",
       "      <th>Source_Link</th>\n",
       "      <th>Summary</th>\n",
       "    </tr>\n",
       "  </thead>\n",
       "  <tbody>\n",
       "    <tr>\n",
       "      <th>0</th>\n",
       "      <td>4</td>\n",
       "      <td>Pew Research Center 2014 GP Survey on Science</td>\n",
       "      <td>2002</td>\n",
       "      <td>Pew Research</td>\n",
       "      <td>48</td>\n",
       "      <td>http://bit.ly/2FbEzIP</td>\n",
       "      <td>http://bit.ly/2t7EVM6</td>\n",
       "      <td>http://pewrsr.ch/2owjlvS</td>\n",
       "      <td>A 2014 survey that included a number of open-e...</td>\n",
       "    </tr>\n",
       "  </tbody>\n",
       "</table>\n",
       "</div>"
      ],
      "text/plain": [
       "   Survey_Number                                    Survey_Name  \\\n",
       "0              4  Pew Research Center 2014 GP Survey on Science   \n",
       "\n",
       "   Num_Participants   Org_Conduct  Num_Questions              Data_Link  \\\n",
       "0              2002  Pew Research             48  http://bit.ly/2FbEzIP   \n",
       "\n",
       "      Documentation_Link               Source_Link  \\\n",
       "0  http://bit.ly/2t7EVM6  http://pewrsr.ch/2owjlvS   \n",
       "\n",
       "                                             Summary  \n",
       "0  A 2014 survey that included a number of open-e...  "
      ]
     },
     "execution_count": 21,
     "metadata": {},
     "output_type": "execute_result"
    }
   ],
   "source": [
    "detail"
   ]
  },
  {
   "cell_type": "code",
   "execution_count": 22,
   "metadata": {
    "collapsed": true
   },
   "outputs": [],
   "source": [
    "detail.to_csv(path_or_buf=\"PewScience_Survey_Detail.csv\", index=False)"
   ]
  },
  {
   "cell_type": "code",
   "execution_count": null,
   "metadata": {
    "collapsed": true
   },
   "outputs": [],
   "source": []
  }
 ],
 "metadata": {
  "kernelspec": {
   "display_name": "Python 3",
   "language": "python",
   "name": "python3"
  },
  "language_info": {
   "codemirror_mode": {
    "name": "ipython",
    "version": 3
   },
   "file_extension": ".py",
   "mimetype": "text/x-python",
   "name": "python",
   "nbconvert_exporter": "python",
   "pygments_lexer": "ipython3",
   "version": "3.6.3"
  }
 },
 "nbformat": 4,
 "nbformat_minor": 2
}
