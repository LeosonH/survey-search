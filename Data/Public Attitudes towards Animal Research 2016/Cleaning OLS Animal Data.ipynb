{
 "cells": [
  {
   "cell_type": "markdown",
   "metadata": {},
   "source": [
    "## Part 1: Extract the questions"
   ]
  },
  {
   "cell_type": "code",
   "execution_count": 1,
   "metadata": {
    "collapsed": true
   },
   "outputs": [],
   "source": [
    "import pandas as pd\n",
    "import re"
   ]
  },
  {
   "cell_type": "code",
   "execution_count": 2,
   "metadata": {
    "collapsed": true
   },
   "outputs": [],
   "source": [
    "ols_data = pd.read_csv(\"ols_animal_research_survey_data_2016.csv\")"
   ]
  },
  {
   "cell_type": "code",
   "execution_count": 3,
   "metadata": {
    "collapsed": true
   },
   "outputs": [],
   "source": [
    "with open(\"ols_animal_research_survey_data_2016_ukda_data_dictionary.rtf\") as file:  \n",
    "    data = file.read()"
   ]
  },
  {
   "cell_type": "code",
   "execution_count": 4,
   "metadata": {
    "collapsed": true
   },
   "outputs": [],
   "source": [
    "# data"
   ]
  },
  {
   "cell_type": "code",
   "execution_count": 5,
   "metadata": {},
   "outputs": [
    {
     "data": {
      "text/plain": [
       "[('Variable label = }{\\\\cf4 ', 'Respondent serial'),\n",
       " ('Variable label = }{\\\\cf4 ',\n",
       "  'How well informed do you feel about the use of animals in scientific research in the UK?'),\n",
       " ('Variable label = }{\\\\cf4 ',\n",
       "  'Interested in finding out more about the ongoing work to find alternatives to using animals in research?'),\n",
       " ('Variable label = }{\\\\cf4 ',\n",
       "  'Interested in finding out more about the ongoing work to improve the welfare of animals in scientific research?'),\n",
       " ('Variable label = }{\\\\cf4 ',\n",
       "  'I can accept the use if animals in research as long as it is for medical research purposes and there is no alternative')]"
      ]
     },
     "execution_count": 5,
     "metadata": {},
     "output_type": "execute_result"
    }
   ],
   "source": [
    "question_tuples = re.findall('(Variable\\slabel\\s=\\s\\}\\{\\\\\\\\cf4\\s)([\\d\\w\\s\\?\\.\\:\\,]*)', data)\n",
    "question_tuples[0:5]"
   ]
  },
  {
   "cell_type": "code",
   "execution_count": 28,
   "metadata": {},
   "outputs": [],
   "source": [
    "var_name_tuples = re.findall('(Variable\\s=\\s\\}\\{\\\\\\\\f2\\\\\\\\fs20\\\\\\\\cf4\\s)([\\d\\w]*)', data)"
   ]
  },
  {
   "cell_type": "code",
   "execution_count": 7,
   "metadata": {
    "collapsed": true
   },
   "outputs": [],
   "source": [
    "cleaned_data = pd.DataFrame()"
   ]
  },
  {
   "cell_type": "code",
   "execution_count": 8,
   "metadata": {
    "collapsed": true
   },
   "outputs": [],
   "source": [
    "for tuple in enumerate(question_tuples):\n",
    "    survey_num = 1\n",
    "    survey_id = \"OLSAnimal\"\n",
    "    survey_name = \"Public Attitudes towards Animal Research 2016\"\n",
    "    var_name = var_name_tuples[tuple[0]][1]\n",
    "    question = tuple[1][1]\n",
    "    link = \"http://bit.ly/2oAtsPs\"\n",
    "    cleaned_data = cleaned_data.append([[survey_num, survey_id, survey_name, var_name, question, link]], ignore_index=True)"
   ]
  },
  {
   "cell_type": "code",
   "execution_count": 9,
   "metadata": {},
   "outputs": [
    {
     "data": {
      "text/html": [
       "<div>\n",
       "<style>\n",
       "    .dataframe thead tr:only-child th {\n",
       "        text-align: right;\n",
       "    }\n",
       "\n",
       "    .dataframe thead th {\n",
       "        text-align: left;\n",
       "    }\n",
       "\n",
       "    .dataframe tbody tr th {\n",
       "        vertical-align: top;\n",
       "    }\n",
       "</style>\n",
       "<table border=\"1\" class=\"dataframe\">\n",
       "  <thead>\n",
       "    <tr style=\"text-align: right;\">\n",
       "      <th></th>\n",
       "      <th>Survey_Number</th>\n",
       "      <th>Survey_ID</th>\n",
       "      <th>Survey_Name</th>\n",
       "      <th>Var_Name</th>\n",
       "      <th>Var_Text</th>\n",
       "      <th>Data_Link</th>\n",
       "    </tr>\n",
       "  </thead>\n",
       "  <tbody>\n",
       "    <tr>\n",
       "      <th>0</th>\n",
       "      <td>1</td>\n",
       "      <td>OLSAnimal</td>\n",
       "      <td>Public Attitudes towards Animal Research 2016</td>\n",
       "      <td>ID</td>\n",
       "      <td>Respondent serial</td>\n",
       "      <td>http://bit.ly/2oAtsPs</td>\n",
       "    </tr>\n",
       "    <tr>\n",
       "      <th>1</th>\n",
       "      <td>1</td>\n",
       "      <td>OLSAnimal</td>\n",
       "      <td>Public Attitudes towards Animal Research 2016</td>\n",
       "      <td>Q1</td>\n",
       "      <td>How well informed do you feel about the use of...</td>\n",
       "      <td>http://bit.ly/2oAtsPs</td>\n",
       "    </tr>\n",
       "    <tr>\n",
       "      <th>2</th>\n",
       "      <td>1</td>\n",
       "      <td>OLSAnimal</td>\n",
       "      <td>Public Attitudes towards Animal Research 2016</td>\n",
       "      <td>Q2a</td>\n",
       "      <td>Interested in finding out more about the ongoi...</td>\n",
       "      <td>http://bit.ly/2oAtsPs</td>\n",
       "    </tr>\n",
       "    <tr>\n",
       "      <th>3</th>\n",
       "      <td>1</td>\n",
       "      <td>OLSAnimal</td>\n",
       "      <td>Public Attitudes towards Animal Research 2016</td>\n",
       "      <td>Q2b</td>\n",
       "      <td>Interested in finding out more about the ongoi...</td>\n",
       "      <td>http://bit.ly/2oAtsPs</td>\n",
       "    </tr>\n",
       "    <tr>\n",
       "      <th>4</th>\n",
       "      <td>1</td>\n",
       "      <td>OLSAnimal</td>\n",
       "      <td>Public Attitudes towards Animal Research 2016</td>\n",
       "      <td>Q3a</td>\n",
       "      <td>I can accept the use if animals in research as...</td>\n",
       "      <td>http://bit.ly/2oAtsPs</td>\n",
       "    </tr>\n",
       "  </tbody>\n",
       "</table>\n",
       "</div>"
      ],
      "text/plain": [
       "   Survey_Number  Survey_ID                                    Survey_Name  \\\n",
       "0              1  OLSAnimal  Public Attitudes towards Animal Research 2016   \n",
       "1              1  OLSAnimal  Public Attitudes towards Animal Research 2016   \n",
       "2              1  OLSAnimal  Public Attitudes towards Animal Research 2016   \n",
       "3              1  OLSAnimal  Public Attitudes towards Animal Research 2016   \n",
       "4              1  OLSAnimal  Public Attitudes towards Animal Research 2016   \n",
       "\n",
       "  Var_Name                                           Var_Text  \\\n",
       "0       ID                                  Respondent serial   \n",
       "1       Q1  How well informed do you feel about the use of...   \n",
       "2      Q2a  Interested in finding out more about the ongoi...   \n",
       "3      Q2b  Interested in finding out more about the ongoi...   \n",
       "4      Q3a  I can accept the use if animals in research as...   \n",
       "\n",
       "               Data_Link  \n",
       "0  http://bit.ly/2oAtsPs  \n",
       "1  http://bit.ly/2oAtsPs  \n",
       "2  http://bit.ly/2oAtsPs  \n",
       "3  http://bit.ly/2oAtsPs  \n",
       "4  http://bit.ly/2oAtsPs  "
      ]
     },
     "execution_count": 9,
     "metadata": {},
     "output_type": "execute_result"
    }
   ],
   "source": [
    "cleaned_data.columns = [\"Survey_Number\",\"Survey_ID\", \"Survey_Name\", \"Var_Name\", \"Var_Text\", \"Data_Link\"]\n",
    "cleaned_data.head()"
   ]
  },
  {
   "cell_type": "code",
   "execution_count": 10,
   "metadata": {},
   "outputs": [
    {
     "data": {
      "text/plain": [
       "248"
      ]
     },
     "execution_count": 10,
     "metadata": {},
     "output_type": "execute_result"
    }
   ],
   "source": [
    "len(cleaned_data)"
   ]
  },
  {
   "cell_type": "code",
   "execution_count": 11,
   "metadata": {},
   "outputs": [
    {
     "data": {
      "text/plain": [
       "82.66666666666667"
      ]
     },
     "execution_count": 11,
     "metadata": {},
     "output_type": "execute_result"
    }
   ],
   "source": [
    "num = 248/3\n",
    "num"
   ]
  },
  {
   "cell_type": "code",
   "execution_count": 12,
   "metadata": {
    "collapsed": true
   },
   "outputs": [],
   "source": [
    "ols_data_1 = cleaned_data[0:82]\n",
    "ols_data_2 = cleaned_data[82:165]\n",
    "ols_data_3 = cleaned_data[165:248]"
   ]
  },
  {
   "cell_type": "code",
   "execution_count": 13,
   "metadata": {},
   "outputs": [
    {
     "name": "stderr",
     "output_type": "stream",
     "text": [
      "/Users/bethanybailey/anaconda3/lib/python3.6/site-packages/ipykernel_launcher.py:1: SettingWithCopyWarning: \n",
      "A value is trying to be set on a copy of a slice from a DataFrame.\n",
      "Try using .loc[row_indexer,col_indexer] = value instead\n",
      "\n",
      "See the caveats in the documentation: http://pandas.pydata.org/pandas-docs/stable/indexing.html#indexing-view-versus-copy\n",
      "  \"\"\"Entry point for launching an IPython kernel.\n",
      "/Users/bethanybailey/anaconda3/lib/python3.6/site-packages/ipykernel_launcher.py:2: SettingWithCopyWarning: \n",
      "A value is trying to be set on a copy of a slice from a DataFrame.\n",
      "Try using .loc[row_indexer,col_indexer] = value instead\n",
      "\n",
      "See the caveats in the documentation: http://pandas.pydata.org/pandas-docs/stable/indexing.html#indexing-view-versus-copy\n",
      "  \n",
      "/Users/bethanybailey/anaconda3/lib/python3.6/site-packages/ipykernel_launcher.py:3: SettingWithCopyWarning: \n",
      "A value is trying to be set on a copy of a slice from a DataFrame.\n",
      "Try using .loc[row_indexer,col_indexer] = value instead\n",
      "\n",
      "See the caveats in the documentation: http://pandas.pydata.org/pandas-docs/stable/indexing.html#indexing-view-versus-copy\n",
      "  This is separate from the ipykernel package so we can avoid doing imports until\n",
      "/Users/bethanybailey/anaconda3/lib/python3.6/site-packages/ipykernel_launcher.py:4: SettingWithCopyWarning: \n",
      "A value is trying to be set on a copy of a slice from a DataFrame.\n",
      "Try using .loc[row_indexer,col_indexer] = value instead\n",
      "\n",
      "See the caveats in the documentation: http://pandas.pydata.org/pandas-docs/stable/indexing.html#indexing-view-versus-copy\n",
      "  after removing the cwd from sys.path.\n",
      "/Users/bethanybailey/anaconda3/lib/python3.6/site-packages/ipykernel_launcher.py:6: SettingWithCopyWarning: \n",
      "A value is trying to be set on a copy of a slice from a DataFrame.\n",
      "Try using .loc[row_indexer,col_indexer] = value instead\n",
      "\n",
      "See the caveats in the documentation: http://pandas.pydata.org/pandas-docs/stable/indexing.html#indexing-view-versus-copy\n",
      "  \n",
      "/Users/bethanybailey/anaconda3/lib/python3.6/site-packages/ipykernel_launcher.py:7: SettingWithCopyWarning: \n",
      "A value is trying to be set on a copy of a slice from a DataFrame.\n",
      "Try using .loc[row_indexer,col_indexer] = value instead\n",
      "\n",
      "See the caveats in the documentation: http://pandas.pydata.org/pandas-docs/stable/indexing.html#indexing-view-versus-copy\n",
      "  import sys\n"
     ]
    },
    {
     "data": {
      "text/plain": [
       "165    3\n",
       "166    3\n",
       "167    3\n",
       "168    3\n",
       "169    3\n",
       "170    3\n",
       "171    3\n",
       "172    3\n",
       "173    3\n",
       "174    3\n",
       "175    3\n",
       "176    3\n",
       "177    3\n",
       "178    3\n",
       "179    3\n",
       "180    3\n",
       "181    3\n",
       "182    3\n",
       "183    3\n",
       "184    3\n",
       "185    3\n",
       "186    3\n",
       "187    3\n",
       "188    3\n",
       "189    3\n",
       "190    3\n",
       "191    3\n",
       "192    3\n",
       "193    3\n",
       "194    3\n",
       "      ..\n",
       "218    3\n",
       "219    3\n",
       "220    3\n",
       "221    3\n",
       "222    3\n",
       "223    3\n",
       "224    3\n",
       "225    3\n",
       "226    3\n",
       "227    3\n",
       "228    3\n",
       "229    3\n",
       "230    3\n",
       "231    3\n",
       "232    3\n",
       "233    3\n",
       "234    3\n",
       "235    3\n",
       "236    3\n",
       "237    3\n",
       "238    3\n",
       "239    3\n",
       "240    3\n",
       "241    3\n",
       "242    3\n",
       "243    3\n",
       "244    3\n",
       "245    3\n",
       "246    3\n",
       "247    3\n",
       "Name: Survey_Number, Length: 83, dtype: int64"
      ]
     },
     "execution_count": 13,
     "metadata": {},
     "output_type": "execute_result"
    }
   ],
   "source": [
    "cleaned_data[0:82][\"Survey_ID\"] = \"OLSAnimal1\"\n",
    "cleaned_data[0:82][\"Survey_Name\"] = \"Public Attitudes towards Animal Research 2016-1\"\n",
    "cleaned_data[82:165][\"Survey_ID\"] = \"OLSAnimal2\"\n",
    "cleaned_data[82:165][\"Survey_Name\"] = \"Public Attitudes towards Animal Research 2016-2\"\n",
    "cleaned_data[82:165][\"Survey_Number\"] + 1\n",
    "cleaned_data[165:248][\"Survey_ID\"] = \"OLSAnimal3\"\n",
    "cleaned_data[165:248][\"Survey_Name\"] = \"Public Attitudes towards Animal Research 2016-3\"\n",
    "cleaned_data[165:248][\"Survey_Number\"] + 2"
   ]
  },
  {
   "cell_type": "code",
   "execution_count": 14,
   "metadata": {},
   "outputs": [
    {
     "data": {
      "text/html": [
       "<div>\n",
       "<style>\n",
       "    .dataframe thead tr:only-child th {\n",
       "        text-align: right;\n",
       "    }\n",
       "\n",
       "    .dataframe thead th {\n",
       "        text-align: left;\n",
       "    }\n",
       "\n",
       "    .dataframe tbody tr th {\n",
       "        vertical-align: top;\n",
       "    }\n",
       "</style>\n",
       "<table border=\"1\" class=\"dataframe\">\n",
       "  <thead>\n",
       "    <tr style=\"text-align: right;\">\n",
       "      <th></th>\n",
       "      <th>Survey_Number</th>\n",
       "      <th>Survey_ID</th>\n",
       "      <th>Survey_Name</th>\n",
       "      <th>Var_Name</th>\n",
       "      <th>Var_Text</th>\n",
       "      <th>Data_Link</th>\n",
       "    </tr>\n",
       "  </thead>\n",
       "  <tbody>\n",
       "    <tr>\n",
       "      <th>0</th>\n",
       "      <td>1</td>\n",
       "      <td>OLSAnimal1</td>\n",
       "      <td>Public Attitudes towards Animal Research 2016-1</td>\n",
       "      <td>ID</td>\n",
       "      <td>Respondent serial</td>\n",
       "      <td>http://bit.ly/2oAtsPs</td>\n",
       "    </tr>\n",
       "    <tr>\n",
       "      <th>1</th>\n",
       "      <td>1</td>\n",
       "      <td>OLSAnimal1</td>\n",
       "      <td>Public Attitudes towards Animal Research 2016-1</td>\n",
       "      <td>Q1</td>\n",
       "      <td>How well informed do you feel about the use of...</td>\n",
       "      <td>http://bit.ly/2oAtsPs</td>\n",
       "    </tr>\n",
       "    <tr>\n",
       "      <th>2</th>\n",
       "      <td>1</td>\n",
       "      <td>OLSAnimal1</td>\n",
       "      <td>Public Attitudes towards Animal Research 2016-1</td>\n",
       "      <td>Q2a</td>\n",
       "      <td>Interested in finding out more about the ongoi...</td>\n",
       "      <td>http://bit.ly/2oAtsPs</td>\n",
       "    </tr>\n",
       "    <tr>\n",
       "      <th>3</th>\n",
       "      <td>1</td>\n",
       "      <td>OLSAnimal1</td>\n",
       "      <td>Public Attitudes towards Animal Research 2016-1</td>\n",
       "      <td>Q2b</td>\n",
       "      <td>Interested in finding out more about the ongoi...</td>\n",
       "      <td>http://bit.ly/2oAtsPs</td>\n",
       "    </tr>\n",
       "    <tr>\n",
       "      <th>4</th>\n",
       "      <td>1</td>\n",
       "      <td>OLSAnimal1</td>\n",
       "      <td>Public Attitudes towards Animal Research 2016-1</td>\n",
       "      <td>Q3a</td>\n",
       "      <td>I can accept the use if animals in research as...</td>\n",
       "      <td>http://bit.ly/2oAtsPs</td>\n",
       "    </tr>\n",
       "  </tbody>\n",
       "</table>\n",
       "</div>"
      ],
      "text/plain": [
       "   Survey_Number   Survey_ID                                      Survey_Name  \\\n",
       "0              1  OLSAnimal1  Public Attitudes towards Animal Research 2016-1   \n",
       "1              1  OLSAnimal1  Public Attitudes towards Animal Research 2016-1   \n",
       "2              1  OLSAnimal1  Public Attitudes towards Animal Research 2016-1   \n",
       "3              1  OLSAnimal1  Public Attitudes towards Animal Research 2016-1   \n",
       "4              1  OLSAnimal1  Public Attitudes towards Animal Research 2016-1   \n",
       "\n",
       "  Var_Name                                           Var_Text  \\\n",
       "0       ID                                  Respondent serial   \n",
       "1       Q1  How well informed do you feel about the use of...   \n",
       "2      Q2a  Interested in finding out more about the ongoi...   \n",
       "3      Q2b  Interested in finding out more about the ongoi...   \n",
       "4      Q3a  I can accept the use if animals in research as...   \n",
       "\n",
       "               Data_Link  \n",
       "0  http://bit.ly/2oAtsPs  \n",
       "1  http://bit.ly/2oAtsPs  \n",
       "2  http://bit.ly/2oAtsPs  \n",
       "3  http://bit.ly/2oAtsPs  \n",
       "4  http://bit.ly/2oAtsPs  "
      ]
     },
     "execution_count": 14,
     "metadata": {},
     "output_type": "execute_result"
    }
   ],
   "source": [
    "cleaned_data.head()"
   ]
  },
  {
   "cell_type": "code",
   "execution_count": 15,
   "metadata": {},
   "outputs": [
    {
     "data": {
      "text/html": [
       "<div>\n",
       "<style>\n",
       "    .dataframe thead tr:only-child th {\n",
       "        text-align: right;\n",
       "    }\n",
       "\n",
       "    .dataframe thead th {\n",
       "        text-align: left;\n",
       "    }\n",
       "\n",
       "    .dataframe tbody tr th {\n",
       "        vertical-align: top;\n",
       "    }\n",
       "</style>\n",
       "<table border=\"1\" class=\"dataframe\">\n",
       "  <thead>\n",
       "    <tr style=\"text-align: right;\">\n",
       "      <th></th>\n",
       "      <th>index</th>\n",
       "      <th>Survey_Number</th>\n",
       "      <th>Survey_ID</th>\n",
       "      <th>Survey_Name</th>\n",
       "      <th>Var_Name</th>\n",
       "      <th>Var_Text</th>\n",
       "      <th>Data_Link</th>\n",
       "    </tr>\n",
       "  </thead>\n",
       "  <tbody>\n",
       "    <tr>\n",
       "      <th>0</th>\n",
       "      <td>82</td>\n",
       "      <td>1</td>\n",
       "      <td>OLSAnimal2</td>\n",
       "      <td>Public Attitudes towards Animal Research 2016-2</td>\n",
       "      <td>Q7_20</td>\n",
       "      <td>Sources of balanced information about use of: Don</td>\n",
       "      <td>http://bit.ly/2oAtsPs</td>\n",
       "    </tr>\n",
       "    <tr>\n",
       "      <th>1</th>\n",
       "      <td>83</td>\n",
       "      <td>1</td>\n",
       "      <td>OLSAnimal2</td>\n",
       "      <td>Public Attitudes towards Animal Research 2016-2</td>\n",
       "      <td>Q8_1</td>\n",
       "      <td>Receive information about use of animals in re...</td>\n",
       "      <td>http://bit.ly/2oAtsPs</td>\n",
       "    </tr>\n",
       "    <tr>\n",
       "      <th>2</th>\n",
       "      <td>84</td>\n",
       "      <td>1</td>\n",
       "      <td>OLSAnimal2</td>\n",
       "      <td>Public Attitudes towards Animal Research 2016-2</td>\n",
       "      <td>Q8_2</td>\n",
       "      <td>Receive information about use of animals in re...</td>\n",
       "      <td>http://bit.ly/2oAtsPs</td>\n",
       "    </tr>\n",
       "    <tr>\n",
       "      <th>3</th>\n",
       "      <td>85</td>\n",
       "      <td>1</td>\n",
       "      <td>OLSAnimal2</td>\n",
       "      <td>Public Attitudes towards Animal Research 2016-2</td>\n",
       "      <td>Q8_3</td>\n",
       "      <td>Receive information about use of animals in re...</td>\n",
       "      <td>http://bit.ly/2oAtsPs</td>\n",
       "    </tr>\n",
       "    <tr>\n",
       "      <th>4</th>\n",
       "      <td>86</td>\n",
       "      <td>1</td>\n",
       "      <td>OLSAnimal2</td>\n",
       "      <td>Public Attitudes towards Animal Research 2016-2</td>\n",
       "      <td>Q8_4</td>\n",
       "      <td>Receive information about use of animals in re...</td>\n",
       "      <td>http://bit.ly/2oAtsPs</td>\n",
       "    </tr>\n",
       "  </tbody>\n",
       "</table>\n",
       "</div>"
      ],
      "text/plain": [
       "   index  Survey_Number   Survey_ID  \\\n",
       "0     82              1  OLSAnimal2   \n",
       "1     83              1  OLSAnimal2   \n",
       "2     84              1  OLSAnimal2   \n",
       "3     85              1  OLSAnimal2   \n",
       "4     86              1  OLSAnimal2   \n",
       "\n",
       "                                       Survey_Name Var_Name  \\\n",
       "0  Public Attitudes towards Animal Research 2016-2    Q7_20   \n",
       "1  Public Attitudes towards Animal Research 2016-2     Q8_1   \n",
       "2  Public Attitudes towards Animal Research 2016-2     Q8_2   \n",
       "3  Public Attitudes towards Animal Research 2016-2     Q8_3   \n",
       "4  Public Attitudes towards Animal Research 2016-2     Q8_4   \n",
       "\n",
       "                                            Var_Text              Data_Link  \n",
       "0  Sources of balanced information about use of: Don  http://bit.ly/2oAtsPs  \n",
       "1  Receive information about use of animals in re...  http://bit.ly/2oAtsPs  \n",
       "2  Receive information about use of animals in re...  http://bit.ly/2oAtsPs  \n",
       "3  Receive information about use of animals in re...  http://bit.ly/2oAtsPs  \n",
       "4  Receive information about use of animals in re...  http://bit.ly/2oAtsPs  "
      ]
     },
     "execution_count": 15,
     "metadata": {},
     "output_type": "execute_result"
    }
   ],
   "source": [
    "ols_data_2 = ols_data_2.reset_index()\n",
    "ols_data_3 = ols_data_3.reset_index()\n",
    "ols_data_2.head()"
   ]
  },
  {
   "cell_type": "code",
   "execution_count": 16,
   "metadata": {
    "collapsed": true
   },
   "outputs": [],
   "source": [
    "ols_data_2 = ols_data_2.drop('index', axis=1)\n",
    "ols_data_3 = ols_data_3.drop('index', axis=1)"
   ]
  },
  {
   "cell_type": "code",
   "execution_count": 17,
   "metadata": {},
   "outputs": [
    {
     "name": "stderr",
     "output_type": "stream",
     "text": [
      "/Users/bethanybailey/anaconda3/lib/python3.6/site-packages/ipykernel_launcher.py:1: SettingWithCopyWarning: \n",
      "A value is trying to be set on a copy of a slice from a DataFrame.\n",
      "Try using .loc[row_indexer,col_indexer] = value instead\n",
      "\n",
      "See the caveats in the documentation: http://pandas.pydata.org/pandas-docs/stable/indexing.html#indexing-view-versus-copy\n",
      "  \"\"\"Entry point for launching an IPython kernel.\n",
      "/Users/bethanybailey/anaconda3/lib/python3.6/site-packages/ipykernel_launcher.py:2: SettingWithCopyWarning: \n",
      "A value is trying to be set on a copy of a slice from a DataFrame.\n",
      "Try using .loc[row_indexer,col_indexer] = value instead\n",
      "\n",
      "See the caveats in the documentation: http://pandas.pydata.org/pandas-docs/stable/indexing.html#indexing-view-versus-copy\n",
      "  \n"
     ]
    },
    {
     "data": {
      "text/html": [
       "<div>\n",
       "<style>\n",
       "    .dataframe thead tr:only-child th {\n",
       "        text-align: right;\n",
       "    }\n",
       "\n",
       "    .dataframe thead th {\n",
       "        text-align: left;\n",
       "    }\n",
       "\n",
       "    .dataframe tbody tr th {\n",
       "        vertical-align: top;\n",
       "    }\n",
       "</style>\n",
       "<table border=\"1\" class=\"dataframe\">\n",
       "  <thead>\n",
       "    <tr style=\"text-align: right;\">\n",
       "      <th></th>\n",
       "      <th>Survey_Number</th>\n",
       "      <th>Survey_ID</th>\n",
       "      <th>Survey_Name</th>\n",
       "      <th>Var_Name</th>\n",
       "      <th>Var_Text</th>\n",
       "      <th>Data_Link</th>\n",
       "    </tr>\n",
       "  </thead>\n",
       "  <tbody>\n",
       "    <tr>\n",
       "      <th>0</th>\n",
       "      <td>1</td>\n",
       "      <td>OLSAnimal1</td>\n",
       "      <td>Public Attitudes towards Animal Research 2016-1</td>\n",
       "      <td>ID</td>\n",
       "      <td>Respondent serial</td>\n",
       "      <td>http://bit.ly/2oAtsPs</td>\n",
       "    </tr>\n",
       "    <tr>\n",
       "      <th>1</th>\n",
       "      <td>1</td>\n",
       "      <td>OLSAnimal1</td>\n",
       "      <td>Public Attitudes towards Animal Research 2016-1</td>\n",
       "      <td>Q1</td>\n",
       "      <td>How well informed do you feel about the use of...</td>\n",
       "      <td>http://bit.ly/2oAtsPs</td>\n",
       "    </tr>\n",
       "    <tr>\n",
       "      <th>2</th>\n",
       "      <td>1</td>\n",
       "      <td>OLSAnimal1</td>\n",
       "      <td>Public Attitudes towards Animal Research 2016-1</td>\n",
       "      <td>Q2a</td>\n",
       "      <td>Interested in finding out more about the ongoi...</td>\n",
       "      <td>http://bit.ly/2oAtsPs</td>\n",
       "    </tr>\n",
       "    <tr>\n",
       "      <th>3</th>\n",
       "      <td>1</td>\n",
       "      <td>OLSAnimal1</td>\n",
       "      <td>Public Attitudes towards Animal Research 2016-1</td>\n",
       "      <td>Q2b</td>\n",
       "      <td>Interested in finding out more about the ongoi...</td>\n",
       "      <td>http://bit.ly/2oAtsPs</td>\n",
       "    </tr>\n",
       "    <tr>\n",
       "      <th>4</th>\n",
       "      <td>1</td>\n",
       "      <td>OLSAnimal1</td>\n",
       "      <td>Public Attitudes towards Animal Research 2016-1</td>\n",
       "      <td>Q3a</td>\n",
       "      <td>I can accept the use if animals in research as...</td>\n",
       "      <td>http://bit.ly/2oAtsPs</td>\n",
       "    </tr>\n",
       "  </tbody>\n",
       "</table>\n",
       "</div>"
      ],
      "text/plain": [
       "   Survey_Number   Survey_ID                                      Survey_Name  \\\n",
       "0              1  OLSAnimal1  Public Attitudes towards Animal Research 2016-1   \n",
       "1              1  OLSAnimal1  Public Attitudes towards Animal Research 2016-1   \n",
       "2              1  OLSAnimal1  Public Attitudes towards Animal Research 2016-1   \n",
       "3              1  OLSAnimal1  Public Attitudes towards Animal Research 2016-1   \n",
       "4              1  OLSAnimal1  Public Attitudes towards Animal Research 2016-1   \n",
       "\n",
       "  Var_Name                                           Var_Text  \\\n",
       "0       ID                                  Respondent serial   \n",
       "1       Q1  How well informed do you feel about the use of...   \n",
       "2      Q2a  Interested in finding out more about the ongoi...   \n",
       "3      Q2b  Interested in finding out more about the ongoi...   \n",
       "4      Q3a  I can accept the use if animals in research as...   \n",
       "\n",
       "               Data_Link  \n",
       "0  http://bit.ly/2oAtsPs  \n",
       "1  http://bit.ly/2oAtsPs  \n",
       "2  http://bit.ly/2oAtsPs  \n",
       "3  http://bit.ly/2oAtsPs  \n",
       "4  http://bit.ly/2oAtsPs  "
      ]
     },
     "execution_count": 17,
     "metadata": {},
     "output_type": "execute_result"
    }
   ],
   "source": [
    "ols_data_1[\"Survey_ID\"] = \"OLSAnimal1\"\n",
    "ols_data_1[\"Survey_Name\"] = \"Public Attitudes towards Animal Research 2016-1\"\n",
    "ols_data_1.head()"
   ]
  },
  {
   "cell_type": "code",
   "execution_count": 18,
   "metadata": {},
   "outputs": [
    {
     "data": {
      "text/html": [
       "<div>\n",
       "<style>\n",
       "    .dataframe thead tr:only-child th {\n",
       "        text-align: right;\n",
       "    }\n",
       "\n",
       "    .dataframe thead th {\n",
       "        text-align: left;\n",
       "    }\n",
       "\n",
       "    .dataframe tbody tr th {\n",
       "        vertical-align: top;\n",
       "    }\n",
       "</style>\n",
       "<table border=\"1\" class=\"dataframe\">\n",
       "  <thead>\n",
       "    <tr style=\"text-align: right;\">\n",
       "      <th></th>\n",
       "      <th>Survey_Number</th>\n",
       "      <th>Survey_ID</th>\n",
       "      <th>Survey_Name</th>\n",
       "      <th>Var_Name</th>\n",
       "      <th>Var_Text</th>\n",
       "      <th>Data_Link</th>\n",
       "    </tr>\n",
       "  </thead>\n",
       "  <tbody>\n",
       "    <tr>\n",
       "      <th>0</th>\n",
       "      <td>2</td>\n",
       "      <td>OLSAnimal2</td>\n",
       "      <td>Public Attitudes towards Animal Research 2016-2</td>\n",
       "      <td>Q7_20</td>\n",
       "      <td>Sources of balanced information about use of: Don</td>\n",
       "      <td>http://bit.ly/2oAtsPs</td>\n",
       "    </tr>\n",
       "    <tr>\n",
       "      <th>1</th>\n",
       "      <td>2</td>\n",
       "      <td>OLSAnimal2</td>\n",
       "      <td>Public Attitudes towards Animal Research 2016-2</td>\n",
       "      <td>Q8_1</td>\n",
       "      <td>Receive information about use of animals in re...</td>\n",
       "      <td>http://bit.ly/2oAtsPs</td>\n",
       "    </tr>\n",
       "    <tr>\n",
       "      <th>2</th>\n",
       "      <td>2</td>\n",
       "      <td>OLSAnimal2</td>\n",
       "      <td>Public Attitudes towards Animal Research 2016-2</td>\n",
       "      <td>Q8_2</td>\n",
       "      <td>Receive information about use of animals in re...</td>\n",
       "      <td>http://bit.ly/2oAtsPs</td>\n",
       "    </tr>\n",
       "    <tr>\n",
       "      <th>3</th>\n",
       "      <td>2</td>\n",
       "      <td>OLSAnimal2</td>\n",
       "      <td>Public Attitudes towards Animal Research 2016-2</td>\n",
       "      <td>Q8_3</td>\n",
       "      <td>Receive information about use of animals in re...</td>\n",
       "      <td>http://bit.ly/2oAtsPs</td>\n",
       "    </tr>\n",
       "    <tr>\n",
       "      <th>4</th>\n",
       "      <td>2</td>\n",
       "      <td>OLSAnimal2</td>\n",
       "      <td>Public Attitudes towards Animal Research 2016-2</td>\n",
       "      <td>Q8_4</td>\n",
       "      <td>Receive information about use of animals in re...</td>\n",
       "      <td>http://bit.ly/2oAtsPs</td>\n",
       "    </tr>\n",
       "  </tbody>\n",
       "</table>\n",
       "</div>"
      ],
      "text/plain": [
       "   Survey_Number   Survey_ID                                      Survey_Name  \\\n",
       "0              2  OLSAnimal2  Public Attitudes towards Animal Research 2016-2   \n",
       "1              2  OLSAnimal2  Public Attitudes towards Animal Research 2016-2   \n",
       "2              2  OLSAnimal2  Public Attitudes towards Animal Research 2016-2   \n",
       "3              2  OLSAnimal2  Public Attitudes towards Animal Research 2016-2   \n",
       "4              2  OLSAnimal2  Public Attitudes towards Animal Research 2016-2   \n",
       "\n",
       "  Var_Name                                           Var_Text  \\\n",
       "0    Q7_20  Sources of balanced information about use of: Don   \n",
       "1     Q8_1  Receive information about use of animals in re...   \n",
       "2     Q8_2  Receive information about use of animals in re...   \n",
       "3     Q8_3  Receive information about use of animals in re...   \n",
       "4     Q8_4  Receive information about use of animals in re...   \n",
       "\n",
       "               Data_Link  \n",
       "0  http://bit.ly/2oAtsPs  \n",
       "1  http://bit.ly/2oAtsPs  \n",
       "2  http://bit.ly/2oAtsPs  \n",
       "3  http://bit.ly/2oAtsPs  \n",
       "4  http://bit.ly/2oAtsPs  "
      ]
     },
     "execution_count": 18,
     "metadata": {},
     "output_type": "execute_result"
    }
   ],
   "source": [
    "ols_data_2[\"Survey_Number\"] += 1\n",
    "ols_data_2[\"Survey_ID\"] = \"OLSAnimal2\"\n",
    "ols_data_2[\"Survey_Name\"] = \"Public Attitudes towards Animal Research 2016-2\"\n",
    "ols_data_2.head()"
   ]
  },
  {
   "cell_type": "code",
   "execution_count": 19,
   "metadata": {},
   "outputs": [
    {
     "data": {
      "text/html": [
       "<div>\n",
       "<style>\n",
       "    .dataframe thead tr:only-child th {\n",
       "        text-align: right;\n",
       "    }\n",
       "\n",
       "    .dataframe thead th {\n",
       "        text-align: left;\n",
       "    }\n",
       "\n",
       "    .dataframe tbody tr th {\n",
       "        vertical-align: top;\n",
       "    }\n",
       "</style>\n",
       "<table border=\"1\" class=\"dataframe\">\n",
       "  <thead>\n",
       "    <tr style=\"text-align: right;\">\n",
       "      <th></th>\n",
       "      <th>Survey_Number</th>\n",
       "      <th>Survey_ID</th>\n",
       "      <th>Survey_Name</th>\n",
       "      <th>Var_Name</th>\n",
       "      <th>Var_Text</th>\n",
       "      <th>Data_Link</th>\n",
       "    </tr>\n",
       "  </thead>\n",
       "  <tbody>\n",
       "    <tr>\n",
       "      <th>0</th>\n",
       "      <td>3</td>\n",
       "      <td>OLSAnimal3</td>\n",
       "      <td>Public Attitudes towards Animal Research 2016-3</td>\n",
       "      <td>Q12b_19</td>\n",
       "      <td>Animals acceptable to use for Research into: H...</td>\n",
       "      <td>http://bit.ly/2oAtsPs</td>\n",
       "    </tr>\n",
       "    <tr>\n",
       "      <th>1</th>\n",
       "      <td>3</td>\n",
       "      <td>OLSAnimal3</td>\n",
       "      <td>Public Attitudes towards Animal Research 2016-3</td>\n",
       "      <td>Q12b_20</td>\n",
       "      <td>Animals acceptable to use for Research into: A...</td>\n",
       "      <td>http://bit.ly/2oAtsPs</td>\n",
       "    </tr>\n",
       "    <tr>\n",
       "      <th>2</th>\n",
       "      <td>3</td>\n",
       "      <td>OLSAnimal3</td>\n",
       "      <td>Public Attitudes towards Animal Research 2016-3</td>\n",
       "      <td>Q12b_21</td>\n",
       "      <td>Animals acceptable to use for Research into: O...</td>\n",
       "      <td>http://bit.ly/2oAtsPs</td>\n",
       "    </tr>\n",
       "    <tr>\n",
       "      <th>3</th>\n",
       "      <td>3</td>\n",
       "      <td>OLSAnimal3</td>\n",
       "      <td>Public Attitudes towards Animal Research 2016-3</td>\n",
       "      <td>Q12b_22</td>\n",
       "      <td>Animals acceptable to use for Research into: N...</td>\n",
       "      <td>http://bit.ly/2oAtsPs</td>\n",
       "    </tr>\n",
       "    <tr>\n",
       "      <th>4</th>\n",
       "      <td>3</td>\n",
       "      <td>OLSAnimal3</td>\n",
       "      <td>Public Attitudes towards Animal Research 2016-3</td>\n",
       "      <td>Q12b_23</td>\n",
       "      <td>Animals acceptable to use for Research into: Don</td>\n",
       "      <td>http://bit.ly/2oAtsPs</td>\n",
       "    </tr>\n",
       "  </tbody>\n",
       "</table>\n",
       "</div>"
      ],
      "text/plain": [
       "   Survey_Number   Survey_ID                                      Survey_Name  \\\n",
       "0              3  OLSAnimal3  Public Attitudes towards Animal Research 2016-3   \n",
       "1              3  OLSAnimal3  Public Attitudes towards Animal Research 2016-3   \n",
       "2              3  OLSAnimal3  Public Attitudes towards Animal Research 2016-3   \n",
       "3              3  OLSAnimal3  Public Attitudes towards Animal Research 2016-3   \n",
       "4              3  OLSAnimal3  Public Attitudes towards Animal Research 2016-3   \n",
       "\n",
       "  Var_Name                                           Var_Text  \\\n",
       "0  Q12b_19  Animals acceptable to use for Research into: H...   \n",
       "1  Q12b_20  Animals acceptable to use for Research into: A...   \n",
       "2  Q12b_21  Animals acceptable to use for Research into: O...   \n",
       "3  Q12b_22  Animals acceptable to use for Research into: N...   \n",
       "4  Q12b_23   Animals acceptable to use for Research into: Don   \n",
       "\n",
       "               Data_Link  \n",
       "0  http://bit.ly/2oAtsPs  \n",
       "1  http://bit.ly/2oAtsPs  \n",
       "2  http://bit.ly/2oAtsPs  \n",
       "3  http://bit.ly/2oAtsPs  \n",
       "4  http://bit.ly/2oAtsPs  "
      ]
     },
     "execution_count": 19,
     "metadata": {},
     "output_type": "execute_result"
    }
   ],
   "source": [
    "ols_data_3[\"Survey_Number\"] += 2\n",
    "ols_data_3[\"Survey_ID\"] = \"OLSAnimal3\"\n",
    "ols_data_3[\"Survey_Name\"] = \"Public Attitudes towards Animal Research 2016-3\"\n",
    "ols_data_3.head()"
   ]
  },
  {
   "cell_type": "code",
   "execution_count": 20,
   "metadata": {
    "collapsed": true
   },
   "outputs": [],
   "source": [
    "ols_data_1.to_csv(path_or_buf=\"OLSAnimal_cleaned_1.csv\")\n",
    "ols_data_2.to_csv(path_or_buf=\"OLSAnimal_cleaned_2.csv\")\n",
    "ols_data_3.to_csv(path_or_buf=\"OLSAnimal_cleaned_3.csv\")"
   ]
  },
  {
   "cell_type": "code",
   "execution_count": 21,
   "metadata": {
    "collapsed": true
   },
   "outputs": [],
   "source": [
    "cleaned_data.to_csv(path_or_buf=\"OLSAnimal_cleaned_joined.csv\")"
   ]
  },
  {
   "cell_type": "markdown",
   "metadata": {
    "collapsed": true
   },
   "source": [
    "## Part 2: Create the survey CSV"
   ]
  },
  {
   "cell_type": "code",
   "execution_count": 22,
   "metadata": {},
   "outputs": [
    {
     "data": {
      "text/plain": [
       "83"
      ]
     },
     "execution_count": 22,
     "metadata": {},
     "output_type": "execute_result"
    }
   ],
   "source": [
    "len(ols_data_3)"
   ]
  },
  {
   "cell_type": "code",
   "execution_count": 23,
   "metadata": {
    "collapsed": true
   },
   "outputs": [],
   "source": [
    "d = {\"Survey_Number\": [1, 2, 3], \"Survey_ID\": [\"OLSAnimal1\", \"OLSAnimal2\", \"OLSAnimal3\"],\n",
    "    \"Survey_Name\": [\"Public Attitudes towards Animal Research 2016-1\", \"Public Attitudes towards Animal \\\n",
    "    Research 2016-2\", \"Public Attitudes towards Animal Research 2016-3\"], \"Num_Participants\": [987, 987, 987], \\\n",
    "    \"Org_Conduct\": [\"IPSOS\", \"IPSOS\", \"IPSOS\"], \"Num_Questions\": [84, 83, 83], \"Data_Link\": \\\n",
    "    [\"http://bit.ly/2oAtsPs\", \"http://bit.ly/2oAtsPs\", \"http://bit.ly/2oAtsPs\"], \\\n",
    "    \"Documentation_Link\": [\"http://bit.ly/2EYnxyx\", \"http://bit.ly/2EYnxyx\", \"http://bit.ly/2EYnxyx\"],\\\n",
    "     \"Source_Link\": [\"http://bit.ly/2CsBSlr\", \"http://bit.ly/2CsBSlr\", \"http://bit.ly/2CsBSlr\"],\\\n",
    "     \"Summary\": [\"Part 1 of findings of a \\\n",
    "        2016 survey on current public awareness and attitudes towards the use of animals in research. The \\\n",
    "        survey also examines attitudes towards, and trust in, the regulatory system and the people who work \\\n",
    "        with animals in research.\",\n",
    "                 \"Part 2 of findings of a \\\n",
    "        2016 survey on current public awareness and attitudes towards the use of animals in research. The \\\n",
    "        survey also examines attitudes towards, and trust in, the regulatory system and the people who work \\\n",
    "        with animals in research.\", \n",
    "                 \"Part 3 of findings of a \\\n",
    "        2016 survey on current public awareness and attitudes towards the use of animals in research. The \\\n",
    "        survey also examines attitudes towards, and trust in, the regulatory system and the people who work \\\n",
    "        with animals in research.\"]}"
   ]
  },
  {
   "cell_type": "code",
   "execution_count": 24,
   "metadata": {
    "collapsed": true
   },
   "outputs": [],
   "source": [
    "detail = pd.DataFrame(data=d, columns = [\"Survey_Number\", \"Survey_ID\", \"Survey_Name\", \"Num_Participants\", \\\n",
    "                      \"Org_Conduct\", \"Num_Questions\", \"Data_Link\", \"Documentation_Link\", \"Source_Link\", \\\n",
    "                      \"Summary\"])"
   ]
  },
  {
   "cell_type": "code",
   "execution_count": 25,
   "metadata": {},
   "outputs": [
    {
     "data": {
      "text/html": [
       "<div>\n",
       "<style>\n",
       "    .dataframe thead tr:only-child th {\n",
       "        text-align: right;\n",
       "    }\n",
       "\n",
       "    .dataframe thead th {\n",
       "        text-align: left;\n",
       "    }\n",
       "\n",
       "    .dataframe tbody tr th {\n",
       "        vertical-align: top;\n",
       "    }\n",
       "</style>\n",
       "<table border=\"1\" class=\"dataframe\">\n",
       "  <thead>\n",
       "    <tr style=\"text-align: right;\">\n",
       "      <th></th>\n",
       "      <th>Survey_Number</th>\n",
       "      <th>Survey_ID</th>\n",
       "      <th>Survey_Name</th>\n",
       "      <th>Num_Participants</th>\n",
       "      <th>Org_Conduct</th>\n",
       "      <th>Num_Questions</th>\n",
       "      <th>Data_Link</th>\n",
       "      <th>Documentation_Link</th>\n",
       "      <th>Source_Link</th>\n",
       "      <th>Summary</th>\n",
       "    </tr>\n",
       "  </thead>\n",
       "  <tbody>\n",
       "    <tr>\n",
       "      <th>0</th>\n",
       "      <td>1</td>\n",
       "      <td>OLSAnimal1</td>\n",
       "      <td>Public Attitudes towards Animal Research 2016-1</td>\n",
       "      <td>987</td>\n",
       "      <td>IPSOS</td>\n",
       "      <td>84</td>\n",
       "      <td>http://bit.ly/2oAtsPs</td>\n",
       "      <td>http://bit.ly/2EYnxyx</td>\n",
       "      <td>http://bit.ly/2CsBSlr</td>\n",
       "      <td>Part 1 of findings of a         2016 survey on...</td>\n",
       "    </tr>\n",
       "    <tr>\n",
       "      <th>1</th>\n",
       "      <td>2</td>\n",
       "      <td>OLSAnimal2</td>\n",
       "      <td>Public Attitudes towards Animal     Research 2...</td>\n",
       "      <td>987</td>\n",
       "      <td>IPSOS</td>\n",
       "      <td>83</td>\n",
       "      <td>http://bit.ly/2oAtsPs</td>\n",
       "      <td>http://bit.ly/2EYnxyx</td>\n",
       "      <td>http://bit.ly/2CsBSlr</td>\n",
       "      <td>Part 2 of findings of a         2016 survey on...</td>\n",
       "    </tr>\n",
       "    <tr>\n",
       "      <th>2</th>\n",
       "      <td>3</td>\n",
       "      <td>OLSAnimal3</td>\n",
       "      <td>Public Attitudes towards Animal Research 2016-3</td>\n",
       "      <td>987</td>\n",
       "      <td>IPSOS</td>\n",
       "      <td>83</td>\n",
       "      <td>http://bit.ly/2oAtsPs</td>\n",
       "      <td>http://bit.ly/2EYnxyx</td>\n",
       "      <td>http://bit.ly/2CsBSlr</td>\n",
       "      <td>Part 3 of findings of a         2016 survey on...</td>\n",
       "    </tr>\n",
       "  </tbody>\n",
       "</table>\n",
       "</div>"
      ],
      "text/plain": [
       "   Survey_Number   Survey_ID  \\\n",
       "0              1  OLSAnimal1   \n",
       "1              2  OLSAnimal2   \n",
       "2              3  OLSAnimal3   \n",
       "\n",
       "                                         Survey_Name  Num_Participants  \\\n",
       "0    Public Attitudes towards Animal Research 2016-1               987   \n",
       "1  Public Attitudes towards Animal     Research 2...               987   \n",
       "2    Public Attitudes towards Animal Research 2016-3               987   \n",
       "\n",
       "  Org_Conduct  Num_Questions              Data_Link     Documentation_Link  \\\n",
       "0       IPSOS             84  http://bit.ly/2oAtsPs  http://bit.ly/2EYnxyx   \n",
       "1       IPSOS             83  http://bit.ly/2oAtsPs  http://bit.ly/2EYnxyx   \n",
       "2       IPSOS             83  http://bit.ly/2oAtsPs  http://bit.ly/2EYnxyx   \n",
       "\n",
       "             Source_Link                                            Summary  \n",
       "0  http://bit.ly/2CsBSlr  Part 1 of findings of a         2016 survey on...  \n",
       "1  http://bit.ly/2CsBSlr  Part 2 of findings of a         2016 survey on...  \n",
       "2  http://bit.ly/2CsBSlr  Part 3 of findings of a         2016 survey on...  "
      ]
     },
     "execution_count": 25,
     "metadata": {},
     "output_type": "execute_result"
    }
   ],
   "source": [
    "detail"
   ]
  },
  {
   "cell_type": "code",
   "execution_count": 26,
   "metadata": {
    "collapsed": true
   },
   "outputs": [],
   "source": [
    "detail.to_csv(path_or_buf=\"OLS_Survey_Detail.csv\")"
   ]
  },
  {
   "cell_type": "code",
   "execution_count": null,
   "metadata": {
    "collapsed": true
   },
   "outputs": [],
   "source": []
  },
  {
   "cell_type": "code",
   "execution_count": null,
   "metadata": {
    "collapsed": true
   },
   "outputs": [],
   "source": []
  }
 ],
 "metadata": {
  "kernelspec": {
   "display_name": "Python 3",
   "language": "python",
   "name": "python3"
  },
  "language_info": {
   "codemirror_mode": {
    "name": "ipython",
    "version": 3
   },
   "file_extension": ".py",
   "mimetype": "text/x-python",
   "name": "python",
   "nbconvert_exporter": "python",
   "pygments_lexer": "ipython3",
   "version": "3.6.3"
  }
 },
 "nbformat": 4,
 "nbformat_minor": 2
}
